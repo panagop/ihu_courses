{
 "cells": [
  {
   "cell_type": "code",
   "execution_count": 2,
   "id": "a0c425bd-5844-4254-87f9-234df49c9193",
   "metadata": {},
   "outputs": [],
   "source": [
    "import sympy as sym\n",
    "from sympy import Matrix\n",
    "import math\n",
    "\n",
    "from mitroiki_functs import K_truss\n",
    "from mitroiki_functs import TransformMatrixTruss\n",
    "from mitroiki_functs import round_expr\n",
    "\n",
    "import openseespy.opensees as ops\n",
    "import opsvis as opsv\n",
    "import matplotlib.pyplot as plt\n",
    "\n",
    "from IPython.display import Image"
   ]
  },
  {
   "cell_type": "markdown",
   "id": "e6b4b3bc-bd94-4ff6-b9ca-c5db6d2f8378",
   "metadata": {},
   "source": [
    "# Εφαρμογή 9 - Δικτύωμα"
   ]
  },
  {
   "cell_type": "markdown",
   "id": "b204c680-e113-4db4-a98d-78471514ada0",
   "metadata": {},
   "source": [
    "Να υπολογιστούν οι αντιδράσεις στήριξης, οι παραμορφώσεις και τα διαγράμματα των εντατικών μεγεθών για τον φορέα του σχήματος."
   ]
  },
  {
   "cell_type": "code",
   "execution_count": 316,
   "id": "6344af1c-d610-43b3-9680-49d5758b45c5",
   "metadata": {},
   "outputs": [
    {
     "data": {
      "image/png": "[encoded data removed]",
      "text/plain": [
       "<IPython.core.display.Image object>"
      ]
     },
     "execution_count": 316,
     "metadata": {
      "image/png": {
       "width": 800
      }
     },
     "output_type": "execute_result"
    }
   ],
   "source": [
    "Image(\"https://raw.githubusercontent.com/panagop/ihu_courses/main/shared/images/mitroa/example8/ekfonisi.png\", width=800)"
   ]
  },
  {
   "cell_type": "code",
   "execution_count": 3,
   "id": "4653aec1-cc7b-46fb-a942-22f42e4aa0e9",
   "metadata": {},
   "outputs": [],
   "source": [
    "E = 200_000_000.\n",
    "A = 1e-4 / math.sqrt(2)\n",
    "\n",
    "L = 10.\n",
    "\n",
    "F = 100."
   ]
  },
  {
   "cell_type": "code",
   "execution_count": 6,
   "id": "af824d65-c79a-4c7c-881c-70ca45b41e9a",
   "metadata": {},
   "outputs": [
    {
     "data": {
      "text/latex": [
       "$\\displaystyle \\left[\\begin{matrix}1000.0 & -1000.0\\\\-1000.0 & 1000.0\\end{matrix}\\right]$"
      ],
      "text/plain": [
       "Matrix([\n",
       "[ 1000.0, -1000.0],\n",
       "[-1000.0,  1000.0]])"
      ]
     },
     "execution_count": 6,
     "metadata": {},
     "output_type": "execute_result"
    }
   ],
   "source": [
    "K1 = K2 = K_truss(A=A,\n",
    "                  E=E,\n",
    "                  L=L*math.sqrt(2))\n",
    "K1"
   ]
  },
  {
   "cell_type": "code",
   "execution_count": 9,
   "id": "e2bf7c97-845f-405f-8d8b-ccd98a0a8c1e",
   "metadata": {},
   "outputs": [
    {
     "data": {
      "text/latex": [
       "$\\displaystyle \\left[\\begin{matrix}0.7071 & 0\\\\0.7071 & 0\\\\0 & 0.7071\\\\0 & 0.7071\\end{matrix}\\right]$"
      ],
      "text/plain": [
       "Matrix([\n",
       "[0.7071,      0],\n",
       "[0.7071,      0],\n",
       "[     0, 0.7071],\n",
       "[     0, 0.7071]])"
      ]
     },
     "execution_count": 9,
     "metadata": {},
     "output_type": "execute_result"
    }
   ],
   "source": [
    "Λ1 = TransformMatrixTruss(math.pi/4)\n",
    "round_expr(Λ1, 4)"
   ]
  },
  {
   "cell_type": "code",
   "execution_count": 17,
   "id": "7babf141-e444-4d58-89e2-1bfd72ae8578",
   "metadata": {},
   "outputs": [
    {
     "data": {
      "text/latex": [
       "$\\displaystyle \\left[\\begin{matrix}500.0 & 500.0 & -500.0 & -500.0\\\\500.0 & 500.0 & -500.0 & -500.0\\\\-500.0 & -500.0 & 500.0 & 500.0\\\\-500.0 & -500.0 & 500.0 & 500.0\\end{matrix}\\right]$"
      ],
      "text/plain": [
       "Matrix([\n",
       "[ 500.0,  500.0, -500.0, -500.0],\n",
       "[ 500.0,  500.0, -500.0, -500.0],\n",
       "[-500.0, -500.0,  500.0,  500.0],\n",
       "[-500.0, -500.0,  500.0,  500.0]])"
      ]
     },
     "execution_count": 17,
     "metadata": {},
     "output_type": "execute_result"
    }
   ],
   "source": [
    "K1_trans = Λ1 * K1 * Λ1.transpose()\n",
    "K1_trans"
   ]
  },
  {
   "cell_type": "code",
   "execution_count": 12,
   "id": "a90a6cda-7f8a-4fc8-b48c-4c249a170997",
   "metadata": {},
   "outputs": [
    {
     "data": {
      "text/latex": [
       "$\\displaystyle \\left[\\begin{matrix}0.7071 & 0\\\\-0.7071 & 0\\\\0 & 0.7071\\\\0 & -0.7071\\end{matrix}\\right]$"
      ],
      "text/plain": [
       "Matrix([\n",
       "[ 0.7071,       0],\n",
       "[-0.7071,       0],\n",
       "[      0,  0.7071],\n",
       "[      0, -0.7071]])"
      ]
     },
     "execution_count": 12,
     "metadata": {},
     "output_type": "execute_result"
    }
   ],
   "source": [
    "Λ2 = TransformMatrixTruss(-math.pi/4)\n",
    "round_expr(Λ2, 4)"
   ]
  },
  {
   "cell_type": "code",
   "execution_count": 18,
   "id": "6e6973f3-6397-4aef-9532-77bc6584fc1b",
   "metadata": {},
   "outputs": [
    {
     "data": {
      "text/latex": [
       "$\\displaystyle \\left[\\begin{matrix}500.0 & -500.0 & -500.0 & 500.0\\\\-500.0 & 500.0 & 500.0 & -500.0\\\\-500.0 & 500.0 & 500.0 & -500.0\\\\500.0 & -500.0 & -500.0 & 500.0\\end{matrix}\\right]$"
      ],
      "text/plain": [
       "Matrix([\n",
       "[ 500.0, -500.0, -500.0,  500.0],\n",
       "[-500.0,  500.0,  500.0, -500.0],\n",
       "[-500.0,  500.0,  500.0, -500.0],\n",
       "[ 500.0, -500.0, -500.0,  500.0]])"
      ]
     },
     "execution_count": 18,
     "metadata": {},
     "output_type": "execute_result"
    }
   ],
   "source": [
    "K2_trans = Λ2 * K2 * Λ2.transpose()\n",
    "K2_trans"
   ]
  },
  {
   "cell_type": "code",
   "execution_count": null,
   "id": "4a9215e5-7210-413c-81e2-4504600daf1c",
   "metadata": {},
   "outputs": [],
   "source": [
    "K2global = Λ1 * K1 * Λ1.transpose()\n",
    "K2global"
   ]
  },
  {
   "cell_type": "code",
   "execution_count": 19,
   "id": "dff8aee1-633d-4919-bd83-7be2cd987519",
   "metadata": {},
   "outputs": [
    {
     "data": {
      "text/latex": [
       "$\\displaystyle \\left[\\begin{matrix}500.0 & 500.0 & -500.0 & -500.0 & 0 & 0\\\\500.0 & 500.0 & -500.0 & -500.0 & 0 & 0\\\\-500.0 & -500.0 & 500.0 & 500.0 & 0 & 0\\\\-500.0 & -500.0 & 500.0 & 500.0 & 0 & 0\\\\0 & 0 & 0 & 0 & 0 & 0\\\\0 & 0 & 0 & 0 & 0 & 0\\end{matrix}\\right]$"
      ],
      "text/plain": [
       "Matrix([\n",
       "[ 500.0,  500.0, -500.0, -500.0, 0, 0],\n",
       "[ 500.0,  500.0, -500.0, -500.0, 0, 0],\n",
       "[-500.0, -500.0,  500.0,  500.0, 0, 0],\n",
       "[-500.0, -500.0,  500.0,  500.0, 0, 0],\n",
       "[     0,      0,      0,      0, 0, 0],\n",
       "[     0,      0,      0,      0, 0, 0]])"
      ]
     },
     "execution_count": 19,
     "metadata": {},
     "output_type": "execute_result"
    }
   ],
   "source": [
    "K1_temp = sym.zeros(6,6)\n",
    "K1_temp[:4, :4] += K1_trans\n",
    "round_expr(K1_temp, 1)"
   ]
  },
  {
   "cell_type": "code",
   "execution_count": 21,
   "id": "65bc6025-3672-4a16-b84f-41fc4ab32a54",
   "metadata": {},
   "outputs": [
    {
     "data": {
      "text/latex": [
       "$\\displaystyle \\left[\\begin{matrix}0 & 0 & 0 & 0 & 0 & 0\\\\0 & 0 & 0 & 0 & 0 & 0\\\\0 & 0 & 500.0 & -500.0 & -500.0 & 500.0\\\\0 & 0 & -500.0 & 500.0 & 500.0 & -500.0\\\\0 & 0 & -500.0 & 500.0 & 500.0 & -500.0\\\\0 & 0 & 500.0 & -500.0 & -500.0 & 500.0\\end{matrix}\\right]$"
      ],
      "text/plain": [
       "Matrix([\n",
       "[0, 0,      0,      0,      0,      0],\n",
       "[0, 0,      0,      0,      0,      0],\n",
       "[0, 0,  500.0, -500.0, -500.0,  500.0],\n",
       "[0, 0, -500.0,  500.0,  500.0, -500.0],\n",
       "[0, 0, -500.0,  500.0,  500.0, -500.0],\n",
       "[0, 0,  500.0, -500.0, -500.0,  500.0]])"
      ]
     },
     "execution_count": 21,
     "metadata": {},
     "output_type": "execute_result"
    }
   ],
   "source": [
    "K2_temp = sym.zeros(6,6)\n",
    "K2_temp[2:, 2:] += K2_trans\n",
    "round_expr(K2_temp, 1)"
   ]
  },
  {
   "cell_type": "code",
   "execution_count": 22,
   "id": "2e868c50-b948-481e-a2db-495475ecd9f1",
   "metadata": {},
   "outputs": [
    {
     "data": {
      "text/latex": [
       "$\\displaystyle \\left[\\begin{matrix}500.0 & 500.0 & -500.0 & -500.0 & 0 & 0\\\\500.0 & 500.0 & -500.0 & -500.0 & 0 & 0\\\\-500.0 & -500.0 & 1000.0 & 0 & -500.0 & 500.0\\\\-500.0 & -500.0 & 0 & 1000.0 & 500.0 & -500.0\\\\0 & 0 & -500.0 & 500.0 & 500.0 & -500.0\\\\0 & 0 & 500.0 & -500.0 & -500.0 & 500.0\\end{matrix}\\right]$"
      ],
      "text/plain": [
       "Matrix([\n",
       "[ 500.0,  500.0, -500.0, -500.0,      0,      0],\n",
       "[ 500.0,  500.0, -500.0, -500.0,      0,      0],\n",
       "[-500.0, -500.0, 1000.0,      0, -500.0,  500.0],\n",
       "[-500.0, -500.0,      0, 1000.0,  500.0, -500.0],\n",
       "[     0,      0, -500.0,  500.0,  500.0, -500.0],\n",
       "[     0,      0,  500.0, -500.0, -500.0,  500.0]])"
      ]
     },
     "execution_count": 22,
     "metadata": {},
     "output_type": "execute_result"
    }
   ],
   "source": [
    "K = K1_temp + K2_temp\n",
    "round_expr(K, 1)"
   ]
  },
  {
   "cell_type": "code",
   "execution_count": 23,
   "id": "529a595c-3aa4-4b65-86f5-74ac7f5c54df",
   "metadata": {},
   "outputs": [],
   "source": [
    "P = Matrix([[0],\n",
    "            [0],\n",
    "            [0],\n",
    "            [-F],\n",
    "            [0],\n",
    "            [0]])"
   ]
  },
  {
   "cell_type": "code",
   "execution_count": 26,
   "id": "295d87fd-07b1-49da-8962-914af56fd8a5",
   "metadata": {},
   "outputs": [
    {
     "data": {
      "text/latex": [
       "$\\displaystyle \\left[\\begin{matrix}1000.0 & 0\\\\0 & 1000.0\\end{matrix}\\right]$"
      ],
      "text/plain": [
       "Matrix([\n",
       "[1000.0,      0],\n",
       "[     0, 1000.0]])"
      ]
     },
     "execution_count": 26,
     "metadata": {},
     "output_type": "execute_result"
    }
   ],
   "source": [
    "K_UU = K[[2, 3], [2, 3]]\n",
    "round_expr(K_UU, 1)"
   ]
  },
  {
   "cell_type": "code",
   "execution_count": 27,
   "id": "50661d40-7b98-46a9-97cc-81962918b833",
   "metadata": {},
   "outputs": [
    {
     "data": {
      "text/latex": [
       "$\\displaystyle \\left[\\begin{matrix}-500.0 & -500.0\\\\-500.0 & -500.0\\\\-500.0 & 500.0\\\\500.0 & -500.0\\end{matrix}\\right]$"
      ],
      "text/plain": [
       "Matrix([\n",
       "[-500.0, -500.0],\n",
       "[-500.0, -500.0],\n",
       "[-500.0,  500.0],\n",
       "[ 500.0, -500.0]])"
      ]
     },
     "execution_count": 27,
     "metadata": {},
     "output_type": "execute_result"
    }
   ],
   "source": [
    "K_RU = K[[0, 1, 4, 5], [2, 3]]\n",
    "round_expr(K_RU, 1)"
   ]
  },
  {
   "cell_type": "code",
   "execution_count": 29,
   "id": "95889b46-8465-4d0b-92ab-ee74eb283aa6",
   "metadata": {},
   "outputs": [
    {
     "data": {
      "text/latex": [
       "$\\displaystyle \\left[\\begin{matrix}0\\\\-100.0\\end{matrix}\\right]$"
      ],
      "text/plain": [
       "Matrix([\n",
       "[     0],\n",
       "[-100.0]])"
      ]
     },
     "execution_count": 29,
     "metadata": {},
     "output_type": "execute_result"
    }
   ],
   "source": [
    "P_U = P[[2, 3], 0]\n",
    "round_expr(P_U, 2)"
   ]
  },
  {
   "cell_type": "code",
   "execution_count": 30,
   "id": "6ea63dfe-bc0b-4018-ad15-a0f0eb66aec7",
   "metadata": {},
   "outputs": [
    {
     "data": {
      "text/latex": [
       "$\\displaystyle \\left[\\begin{matrix}0\\\\0\\\\0\\\\0\\end{matrix}\\right]$"
      ],
      "text/plain": [
       "Matrix([\n",
       "[0],\n",
       "[0],\n",
       "[0],\n",
       "[0]])"
      ]
     },
     "execution_count": 30,
     "metadata": {},
     "output_type": "execute_result"
    }
   ],
   "source": [
    "P_R = P[[0, 1, 4, 5], 0]\n",
    "round_expr(P_R, 2)"
   ]
  },
  {
   "cell_type": "code",
   "execution_count": 31,
   "id": "9bee4f88-ce5c-40bc-9d82-9a1d54b3d540",
   "metadata": {},
   "outputs": [
    {
     "data": {
      "text/latex": [
       "$\\displaystyle \\left[\\begin{matrix}0\\\\-0.1\\end{matrix}\\right]$"
      ],
      "text/plain": [
       "Matrix([\n",
       "[   0],\n",
       "[-0.1]])"
      ]
     },
     "execution_count": 31,
     "metadata": {},
     "output_type": "execute_result"
    }
   ],
   "source": [
    "U_U = K_UU.inv() * P_U\n",
    "round_expr(U_U, 7)"
   ]
  },
  {
   "cell_type": "code",
   "execution_count": 32,
   "id": "94f9f5ff-a551-442d-90bb-5994e3ca29c9",
   "metadata": {},
   "outputs": [
    {
     "data": {
      "text/latex": [
       "$\\displaystyle \\left[\\begin{matrix}50.0\\\\50.0\\\\-50.0\\\\50.0\\end{matrix}\\right]$"
      ],
      "text/plain": [
       "Matrix([\n",
       "[ 50.0],\n",
       "[ 50.0],\n",
       "[-50.0],\n",
       "[ 50.0]])"
      ]
     },
     "execution_count": 32,
     "metadata": {},
     "output_type": "execute_result"
    }
   ],
   "source": [
    "R_R = K_RU*U_U - P_R\n",
    "round_expr(R_R, 2)"
   ]
  },
  {
   "cell_type": "code",
   "execution_count": null,
   "id": "cdeeaa96-c30e-4bc3-a1ed-45d4f4496d3c",
   "metadata": {},
   "outputs": [],
   "source": []
  },
  {
   "cell_type": "code",
   "execution_count": null,
   "id": "af77e5b5-d2b7-4ef5-9d1a-8e819a6df8aa",
   "metadata": {},
   "outputs": [],
   "source": []
  },
  {
   "cell_type": "markdown",
   "id": "7558b3b2-8e2c-426a-80e3-d38403142c9c",
   "metadata": {},
   "source": [
    "## Επίλυση/έλεγχος με το OpenSees"
   ]
  },
  {
   "cell_type": "code",
   "execution_count": 50,
   "id": "a3f620af-c85c-4182-8ad9-d2faec06aba5",
   "metadata": {},
   "outputs": [
    {
     "data": {
      "image/png": "[encoded data removed]",
      "text/plain": [
       "<Figure size 640x480 with 1 Axes>"
      ]
     },
     "metadata": {},
     "output_type": "display_data"
    },
    {
     "data": {
      "image/png": "[encoded data removed]",
      "text/plain": [
       "<Figure size 640x480 with 1 Axes>"
      ]
     },
     "metadata": {},
     "output_type": "display_data"
    },
    {
     "data": {
      "image/png": "[encoded data removed]",
      "text/plain": [
       "<Figure size 640x480 with 1 Axes>"
      ]
     },
     "metadata": {},
     "output_type": "display_data"
    },
    {
     "data": {
      "image/png": "[encoded data removed]",
      "text/plain": [
       "<Figure size 640x480 with 1 Axes>"
      ]
     },
     "metadata": {},
     "output_type": "display_data"
    }
   ],
   "source": [
    "ops.wipe()\n",
    "ops.model('basic', '-ndm', 2, '-ndf', 2)\n",
    "\n",
    "ops.node(1, -L, 0)\n",
    "ops.node(2, 0, L)\n",
    "ops.node(3, L, 0)\n",
    "\n",
    "ops.fix(1, 1, 1)\n",
    "ops.fix(3, 1, 1)\n",
    "\n",
    "# define materials\n",
    "ops.uniaxialMaterial(\"Elastic\", 1, E)\n",
    "\n",
    "# ops.geomTransf('Linear', 1)\n",
    "\n",
    "# elements\n",
    "ops.element('Truss', 1, 1, 2, A, 1)\n",
    "ops.element('Truss', 2, 2, 3, A, 1)\n",
    "\n",
    "\n",
    "# loads\n",
    "ops.timeSeries('Linear', 1)\n",
    "ops.pattern('Plain', 1, 1)\n",
    "\n",
    "ops.load(2, 0, -F)\n",
    "\n",
    "# analysis\n",
    "ops.constraints('Plain')\n",
    "ops.numberer('RCM')\n",
    "ops.system('BandSPD')\n",
    "# ops.test('NormDispIncr', 1.0e-6, 6, 2)\n",
    "ops.integrator('LoadControl', 1.0)\n",
    "ops.algorithm('Linear')\n",
    "ops.analysis('Static')\n",
    "ops.analyze(1)\n",
    "\n",
    "# results\n",
    "# ops.printModel()\n",
    "opsv.plot_model()\n",
    "plt.title('plot_model after defining elements')\n",
    "\n",
    "opsv.plot_loads_2d()\n",
    "plt.title('loads')\n",
    "\n",
    "sfac = .01\n",
    "opsv.plot_defo(sfac)\n",
    "plt.title('deformations')\n",
    "\n",
    "sfacN, sfacV, sfacM = 7.e-3, 6.e-3, 4.e-3\n",
    "opsv.section_force_diagram_2d('N', sfacN)\n",
    "plt.title('Axial force distribution')\n",
    "\n",
    "plt.show()\n"
   ]
  },
  {
   "cell_type": "code",
   "execution_count": 51,
   "id": "fe5740b4-bd79-4f80-8573-eaa31889b9e5",
   "metadata": {},
   "outputs": [
    {
     "name": "stdout",
     "output_type": "stream",
     "text": [
      "[0.0, 0.0]\n",
      "[0.0, -0.07071067811865477]\n",
      "[0.0, 0.0]\n"
     ]
    }
   ],
   "source": [
    "for i in range(1,4):\n",
    "    print(ops.nodeDisp(i))"
   ]
  },
  {
   "cell_type": "code",
   "execution_count": null,
   "id": "68cc7017-b984-4ce0-929f-8c8e3b033fc3",
   "metadata": {},
   "outputs": [],
   "source": []
  },
  {
   "cell_type": "code",
   "execution_count": null,
   "id": "35db7c92-6c9c-4f42-a8ea-4197b0312580",
   "metadata": {},
   "outputs": [],
   "source": []
  },
  {
   "cell_type": "code",
   "execution_count": null,
   "id": "446b509d-4b67-4ef6-a3f2-e2f78ff1b1d0",
   "metadata": {},
   "outputs": [],
   "source": []
  },
  {
   "cell_type": "code",
   "execution_count": null,
   "id": "e8fe25c0-4607-4b3f-aedb-9d3c6182c490",
   "metadata": {},
   "outputs": [],
   "source": []
  }
 ],
 "metadata": {
  "kernelspec": {
   "display_name": "Python 3 (ipykernel)",
   "language": "python",
   "name": "python3"
  },
  "language_info": {
   "codemirror_mode": {
    "name": "ipython",
    "version": 3
   },
   "file_extension": ".py",
   "mimetype": "text/x-python",
   "name": "python",
   "nbconvert_exporter": "python",
   "pygments_lexer": "ipython3",
   "version": "3.9.13"
  }
 },
 "nbformat": 4,
 "nbformat_minor": 5
}
