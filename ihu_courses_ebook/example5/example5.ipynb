{
 "cells": [
  {
   "cell_type": "markdown",
   "id": "e6b4b3bc-bd94-4ff6-b9ca-c5db6d2f8378",
   "metadata": {
    "tags": []
   },
   "source": [
    "# Εφαρμογή 5"
   ]
  },
  {
   "cell_type": "code",
   "execution_count": 1,
   "id": "a0c425bd-5844-4254-87f9-234df49c9193",
   "metadata": {},
   "outputs": [],
   "source": [
    "import sympy as sym\n",
    "from sympy import Matrix\n",
    "from mitroiki_functs import K_without_axial\n",
    "from mitroiki_functs import P_point_load_at_distance_a, P_uniformly_distributed_load\n",
    "from mitroiki_functs import round_expr\n",
    "\n",
    "# from common.statics.mitroiki_functs import K_without_axial\n",
    "# from common.statics.mitroiki_functs import P_point_load_at_distance_a, P_uniformly_distributed_load\n",
    "# from common.statics.mitroiki_functs import round_expr\n",
    "\n",
    "import openseespy.opensees as ops\n",
    "import opsvis as opsv\n",
    "import matplotlib.pyplot as plt\n",
    "\n",
    "# from IPython.display import Image"
   ]
  },
  {
   "cell_type": "markdown",
   "id": "b204c680-e113-4db4-a98d-78471514ada0",
   "metadata": {},
   "source": [
    "Να υπολογιστούν οι αντιδράσεις στήριξης, οι παραμορφώσεις και τα διαγράμματα των εντατικών μεγεθών για τον φορέα του σχήματος.\n",
    "\n",
    "Να αγνοηθούν οι αξονικοί βαθμοί ελευθερίας\n",
    "\n",
    "<img src=\"https://raw.githubusercontent.com/panagop/ihu_courses/main/images/mitroa/example5/ekfonisi.png\" width=\"650\">"
   ]
  },
  {
   "cell_type": "code",
   "execution_count": 4,
   "id": "4653aec1-cc7b-46fb-a942-22f42e4aa0e9",
   "metadata": {},
   "outputs": [],
   "source": [
    "E = 20_000.\n",
    "I = 1.\n",
    "L1 = 3.0\n",
    "L2 = 4.0\n",
    "L3 = 4.0\n",
    "\n",
    "q1_load = 10.\n",
    "q2_load = 40."
   ]
  },
  {
   "cell_type": "markdown",
   "id": "45031ec9-f23f-4052-8c7b-3cc578204c7d",
   "metadata": {},
   "source": [
    "## Αντιστοίχιση τοπικών - καθολικών βαθμών ελευθερίας\n",
    "\n",
    "| Καθολ. Συστ. | (1) | (2) | (3) | (4) | (5) | (6) | (7) | (8) | (9) |\n",
    "|--------------|-----|-----|-----|-----|-----|-----|-----|-----|-----|\n",
    "| 1-2          | -1  |     |  2  | -3  |  4  |     |     |     |     |\n",
    "| 2-3          |     | 1   |     |     |  2  |  3  | 4   |     |     |\n",
    "| 2-4          |     |     |     |     |     |  1  | 2   | 3   | 4   |"
   ]
  },
  {
   "cell_type": "markdown",
   "id": "f511e33a",
   "metadata": {},
   "source": [
    "<img src=\"https://raw.githubusercontent.com/panagop/ihu_courses/main/images/mitroa/example5/dof_global_local.png\" width=\"650\">"
   ]
  },
  {
   "cell_type": "markdown",
   "id": "350a6e72-b398-4175-9a92-ebb4d7f87972",
   "metadata": {},
   "source": [
    "## Μητρώα στιβαρότητας στοιχείων\n",
    "Τα στοιχεία 2 (2-3) και 3 (3-4) έχουν όμοια μητρώα στιβαρότητας (ίδιες διαστάσεις, διατομές, υλικά)"
   ]
  },
  {
   "cell_type": "code",
   "execution_count": 5,
   "id": "12f3fd41-0d6b-4d7a-8086-df5aec1f565a",
   "metadata": {},
   "outputs": [
    {
     "data": {
      "text/latex": [
       "$\\displaystyle \\left[\\begin{matrix}8888.9 & 13333.3 & -8888.9 & 13333.3\\\\13333.3 & 26666.7 & -13333.3 & 13333.3\\\\-8888.9 & -13333.3 & 8888.9 & -13333.3\\\\13333.3 & 13333.3 & -13333.3 & 26666.7\\end{matrix}\\right]$"
      ],
      "text/plain": [
       "Matrix([\n",
       "[ 8888.9,  13333.3,  -8888.9,  13333.3],\n",
       "[13333.3,  26666.7, -13333.3,  13333.3],\n",
       "[-8888.9, -13333.3,   8888.9, -13333.3],\n",
       "[13333.3,  13333.3, -13333.3,  26666.7]])"
      ]
     },
     "execution_count": 5,
     "metadata": {},
     "output_type": "execute_result"
    }
   ],
   "source": [
    "K1 = K_without_axial(E=E, I=I, L=L1)\n",
    "round_expr(K1, 1)"
   ]
  },
  {
   "cell_type": "code",
   "execution_count": 6,
   "id": "c5a8ca61-8503-46fc-81d8-dbfc9527e4f8",
   "metadata": {},
   "outputs": [
    {
     "data": {
      "text/latex": [
       "$\\displaystyle \\left[\\begin{matrix}5625.0 & 11250.0 & -5625.0 & 11250.0\\\\11250.0 & 30000.0 & -11250.0 & 15000.0\\\\-5625.0 & -11250.0 & 5625.0 & -11250.0\\\\11250.0 & 15000.0 & -11250.0 & 30000.0\\end{matrix}\\right]$"
      ],
      "text/plain": [
       "Matrix([\n",
       "[ 5625.0,  11250.0,  -5625.0,  11250.0],\n",
       "[11250.0,  30000.0, -11250.0,  15000.0],\n",
       "[-5625.0, -11250.0,   5625.0, -11250.0],\n",
       "[11250.0,  15000.0, -11250.0,  30000.0]])"
      ]
     },
     "execution_count": 6,
     "metadata": {},
     "output_type": "execute_result"
    }
   ],
   "source": [
    "K2 = K3 = K_without_axial(E=E, I=1.5*I, L=L2)\n",
    "round_expr(K2, 1)"
   ]
  },
  {
   "cell_type": "markdown",
   "id": "90e84d3c-dffa-439f-83da-1ec3ef22f9f2",
   "metadata": {},
   "source": [
    "## Μητρώο στιβαρότητας φορέα\n",
    "Είναι διαστάσεων 9x9 και δημιουργείται από το συνδυασμό των επιμέρους μητρώων, βάσει της αντιστοίχισης των βαθμών ελευθερίας στο καθολικό σύστημα συντεταγμένων"
   ]
  },
  {
   "cell_type": "markdown",
   "id": "9e2c6740-7e9e-4772-8cf6-177fcee1ff1a",
   "metadata": {},
   "source": [
    "Δημιουργείται ένα μηδενικό μητρώο 9x9 και σταδιακά προστίθενται οι τιμές στις κατάλληλες θέσεις\n",
    "\n",
    "Προσοχή στα πρόσημα! Για παράδειγμα: \n",
    "\n",
    "- Το Κ11 έχει (-) x (-) = (+)\n",
    "- To K13 έχει (-) x (+) = (-)\n",
    "- To K14 έχει (-) x (-) = (+)\n",
    "- κοκ\n",
    "\n",
    "| Καθολ. Συστ. | (1) | (2) | (3) | (4) | (5) | (6) | (7) | (8) | (9) |\n",
    "|--------------|-----|-----|-----|-----|-----|-----|-----|-----|-----|\n",
    "| 1-2          | -1  |     |  2  | -3  |  4  |     |     |     |     |\n",
    "| 2-3          |     | 1   |     |     |  2  |  3  | 4   |     |     |\n",
    "| 2-4          |     |     |     |     |     |  1  | 2   | 3   | 4   |"
   ]
  },
  {
   "cell_type": "code",
   "execution_count": 7,
   "id": "78d3abed-8075-41f0-8df4-66a05f5d31a3",
   "metadata": {},
   "outputs": [
    {
     "data": {
      "text/latex": [
       "$\\displaystyle \\left[\\begin{matrix}8888.9 & 0 & -13333.3 & -8888.9 & -13333.3 & 0 & 0 & 0 & 0\\\\0 & 0 & 0 & 0 & 0 & 0 & 0 & 0 & 0\\\\-13333.3 & 0 & 26666.7 & 13333.3 & 13333.3 & 0 & 0 & 0 & 0\\\\-8888.9 & 0 & 13333.3 & 8888.9 & 13333.3 & 0 & 0 & 0 & 0\\\\-13333.3 & 0 & 13333.3 & 13333.3 & 26666.7 & 0 & 0 & 0 & 0\\\\0 & 0 & 0 & 0 & 0 & 0 & 0 & 0 & 0\\\\0 & 0 & 0 & 0 & 0 & 0 & 0 & 0 & 0\\\\0 & 0 & 0 & 0 & 0 & 0 & 0 & 0 & 0\\\\0 & 0 & 0 & 0 & 0 & 0 & 0 & 0 & 0\\end{matrix}\\right]$"
      ],
      "text/plain": [
       "Matrix([\n",
       "[  8888.9, 0, -13333.3, -8888.9, -13333.3, 0, 0, 0, 0],\n",
       "[       0, 0,        0,       0,        0, 0, 0, 0, 0],\n",
       "[-13333.3, 0,  26666.7, 13333.3,  13333.3, 0, 0, 0, 0],\n",
       "[ -8888.9, 0,  13333.3,  8888.9,  13333.3, 0, 0, 0, 0],\n",
       "[-13333.3, 0,  13333.3, 13333.3,  26666.7, 0, 0, 0, 0],\n",
       "[       0, 0,        0,       0,        0, 0, 0, 0, 0],\n",
       "[       0, 0,        0,       0,        0, 0, 0, 0, 0],\n",
       "[       0, 0,        0,       0,        0, 0, 0, 0, 0],\n",
       "[       0, 0,        0,       0,        0, 0, 0, 0, 0]])"
      ]
     },
     "execution_count": 7,
     "metadata": {},
     "output_type": "execute_result"
    }
   ],
   "source": [
    "K1_temp = sym.zeros(9,9)\n",
    "\n",
    "K1_temp[0, 0] += +K1[0, 0]       # (-) x (-) = (+)\n",
    "K1_temp[2, 0] += -K1[1, 0]       # (+) x (-) = (-)\n",
    "K1_temp[3, 0] += +K1[2, 0]       # (-) x (-) = (+)\n",
    "K1_temp[4, 0] += -K1[3, 0]       # (+) x (-) = (-)\n",
    "\n",
    "K1_temp[0, 2] += -K1[0, 1]       # (-) x (+) = (-)\n",
    "K1_temp[2, 2] += +K1[1, 1]       # (+) x (+) = (+)\n",
    "K1_temp[3, 2] += -K1[2, 1]       # (-) x (+) = (-)\n",
    "K1_temp[4, 2] += +K1[3, 1]       # (+) x (+) = (+)\n",
    "\n",
    "K1_temp[0, 3] += +K1[0, 2]       # (-) x (-) = (+)\n",
    "K1_temp[2, 3] += -K1[1, 2]       # (+) x (-) = (-)\n",
    "K1_temp[3, 3] += +K1[2, 2]       # (-) x (-) = (+)\n",
    "K1_temp[4, 3] += -K1[3, 2]       # (+) x (-) = (-)\n",
    "\n",
    "K1_temp[0, 4] += -K1[0, 3]       # (-) x (+) = (-)\n",
    "K1_temp[2, 4] += +K1[1, 3]       # (+) x (+) = (+)\n",
    "K1_temp[3, 4] += -K1[2, 3]       # (-) x (+) = (-)\n",
    "K1_temp[4, 4] += +K1[3, 3]       # (+) x (+) = (+)\n",
    "\n",
    "round_expr(K1_temp, 1)"
   ]
  },
  {
   "cell_type": "code",
   "execution_count": 8,
   "id": "c78eab00-c7dc-4b3c-9714-78859f80a720",
   "metadata": {},
   "outputs": [
    {
     "data": {
      "text/latex": [
       "$\\displaystyle \\left[\\begin{matrix}0 & 0 & 0 & 0 & 0 & 0 & 0 & 0 & 0\\\\0 & 5625.0 & 0 & 0 & 11250.0 & -5625.0 & 11250.0 & 0 & 0\\\\0 & 0 & 0 & 0 & 0 & 0 & 0 & 0 & 0\\\\0 & 0 & 0 & 0 & 0 & 0 & 0 & 0 & 0\\\\0 & 11250.0 & 0 & 0 & 30000.0 & -11250.0 & 15000.0 & 0 & 0\\\\0 & -5625.0 & 0 & 0 & -11250.0 & 5625.0 & -11250.0 & 0 & 0\\\\0 & 11250.0 & 0 & 0 & 15000.0 & -11250.0 & 30000.0 & 0 & 0\\\\0 & 0 & 0 & 0 & 0 & 0 & 0 & 0 & 0\\\\0 & 0 & 0 & 0 & 0 & 0 & 0 & 0 & 0\\end{matrix}\\right]$"
      ],
      "text/plain": [
       "Matrix([\n",
       "[0,       0, 0, 0,        0,        0,        0, 0, 0],\n",
       "[0,  5625.0, 0, 0,  11250.0,  -5625.0,  11250.0, 0, 0],\n",
       "[0,       0, 0, 0,        0,        0,        0, 0, 0],\n",
       "[0,       0, 0, 0,        0,        0,        0, 0, 0],\n",
       "[0, 11250.0, 0, 0,  30000.0, -11250.0,  15000.0, 0, 0],\n",
       "[0, -5625.0, 0, 0, -11250.0,   5625.0, -11250.0, 0, 0],\n",
       "[0, 11250.0, 0, 0,  15000.0, -11250.0,  30000.0, 0, 0],\n",
       "[0,       0, 0, 0,        0,        0,        0, 0, 0],\n",
       "[0,       0, 0, 0,        0,        0,        0, 0, 0]])"
      ]
     },
     "execution_count": 8,
     "metadata": {},
     "output_type": "execute_result"
    }
   ],
   "source": [
    "K2_temp = sym.zeros(9,9)\n",
    "\n",
    "K2_temp[1, 1] += K2[0, 0]\n",
    "K2_temp[4:7, 1] += K2[1:4, 0]\n",
    "K2_temp[1, 4:7] += K2[0, 1:4]\n",
    "K2_temp[4:7, 4:7] += K2[1:4, 1:4]\n",
    "\n",
    "round_expr(K2_temp, 1)"
   ]
  },
  {
   "cell_type": "code",
   "execution_count": 9,
   "id": "e20b2909-8bac-4bc1-a957-ffe0a0b494ea",
   "metadata": {},
   "outputs": [
    {
     "data": {
      "text/latex": [
       "$\\displaystyle \\left[\\begin{matrix}0 & 0 & 0 & 0 & 0 & 0 & 0 & 0 & 0\\\\0 & 0 & 0 & 0 & 0 & 0 & 0 & 0 & 0\\\\0 & 0 & 0 & 0 & 0 & 0 & 0 & 0 & 0\\\\0 & 0 & 0 & 0 & 0 & 0 & 0 & 0 & 0\\\\0 & 0 & 0 & 0 & 0 & 0 & 0 & 0 & 0\\\\0 & 0 & 0 & 0 & 0 & 5625.0 & 11250.0 & -5625.0 & 11250.0\\\\0 & 0 & 0 & 0 & 0 & 11250.0 & 30000.0 & -11250.0 & 15000.0\\\\0 & 0 & 0 & 0 & 0 & -5625.0 & -11250.0 & 5625.0 & -11250.0\\\\0 & 0 & 0 & 0 & 0 & 11250.0 & 15000.0 & -11250.0 & 30000.0\\end{matrix}\\right]$"
      ],
      "text/plain": [
       "Matrix([\n",
       "[0, 0, 0, 0, 0,       0,        0,        0,        0],\n",
       "[0, 0, 0, 0, 0,       0,        0,        0,        0],\n",
       "[0, 0, 0, 0, 0,       0,        0,        0,        0],\n",
       "[0, 0, 0, 0, 0,       0,        0,        0,        0],\n",
       "[0, 0, 0, 0, 0,       0,        0,        0,        0],\n",
       "[0, 0, 0, 0, 0,  5625.0,  11250.0,  -5625.0,  11250.0],\n",
       "[0, 0, 0, 0, 0, 11250.0,  30000.0, -11250.0,  15000.0],\n",
       "[0, 0, 0, 0, 0, -5625.0, -11250.0,   5625.0, -11250.0],\n",
       "[0, 0, 0, 0, 0, 11250.0,  15000.0, -11250.0,  30000.0]])"
      ]
     },
     "execution_count": 9,
     "metadata": {},
     "output_type": "execute_result"
    }
   ],
   "source": [
    "K3_temp = sym.zeros(9,9)\n",
    "\n",
    "K3_temp[5:, 5:] += K3\n",
    "\n",
    "round_expr(K3_temp, 1)"
   ]
  },
  {
   "cell_type": "markdown",
   "id": "e33e87cc-20d2-4f6a-9854-8340ec69a80b",
   "metadata": {},
   "source": [
    "Οπότε το συνολικό μητρώο του φορέα είναι το $Κ$"
   ]
  },
  {
   "cell_type": "code",
   "execution_count": 10,
   "id": "f7b19872-b8fe-4a01-82c9-6db3bb94e974",
   "metadata": {},
   "outputs": [
    {
     "data": {
      "text/latex": [
       "$\\displaystyle \\left[\\begin{matrix}8888.9 & 0 & -13333.3 & -8888.9 & -13333.3 & 0 & 0 & 0 & 0\\\\0 & 5625.0 & 0 & 0 & 11250.0 & -5625.0 & 11250.0 & 0 & 0\\\\-13333.3 & 0 & 26666.7 & 13333.3 & 13333.3 & 0 & 0 & 0 & 0\\\\-8888.9 & 0 & 13333.3 & 8888.9 & 13333.3 & 0 & 0 & 0 & 0\\\\-13333.3 & 11250.0 & 13333.3 & 13333.3 & 56666.7 & -11250.0 & 15000.0 & 0 & 0\\\\0 & -5625.0 & 0 & 0 & -11250.0 & 11250.0 & 0 & -5625.0 & 11250.0\\\\0 & 11250.0 & 0 & 0 & 15000.0 & 0 & 60000.0 & -11250.0 & 15000.0\\\\0 & 0 & 0 & 0 & 0 & -5625.0 & -11250.0 & 5625.0 & -11250.0\\\\0 & 0 & 0 & 0 & 0 & 11250.0 & 15000.0 & -11250.0 & 30000.0\\end{matrix}\\right]$"
      ],
      "text/plain": [
       "Matrix([\n",
       "[  8888.9,       0, -13333.3, -8888.9, -13333.3,        0,        0,        0,        0],\n",
       "[       0,  5625.0,        0,       0,  11250.0,  -5625.0,  11250.0,        0,        0],\n",
       "[-13333.3,       0,  26666.7, 13333.3,  13333.3,        0,        0,        0,        0],\n",
       "[ -8888.9,       0,  13333.3,  8888.9,  13333.3,        0,        0,        0,        0],\n",
       "[-13333.3, 11250.0,  13333.3, 13333.3,  56666.7, -11250.0,  15000.0,        0,        0],\n",
       "[       0, -5625.0,        0,       0, -11250.0,  11250.0,        0,  -5625.0,  11250.0],\n",
       "[       0, 11250.0,        0,       0,  15000.0,        0,  60000.0, -11250.0,  15000.0],\n",
       "[       0,       0,        0,       0,        0,  -5625.0, -11250.0,   5625.0, -11250.0],\n",
       "[       0,       0,        0,       0,        0,  11250.0,  15000.0, -11250.0,  30000.0]])"
      ]
     },
     "execution_count": 10,
     "metadata": {},
     "output_type": "execute_result"
    }
   ],
   "source": [
    "K = K1_temp + K2_temp + K3_temp\n",
    "round_expr(K, 1)"
   ]
  },
  {
   "cell_type": "markdown",
   "id": "e066d4e3-ac0f-4b1e-8e05-fe34059cd86d",
   "metadata": {},
   "source": [
    "## Μητρώο εξωτερικής φόρτισης"
   ]
  },
  {
   "cell_type": "markdown",
   "id": "a00ad50e-c04e-45c6-a74c-744c2abac8f2",
   "metadata": {},
   "source": [
    "### Στοιχείο 1\n",
    "Το στοιχείο 1 παραλαμβάνει ομοιόμορφα κατανεμημένο φορτίο $q_1=10\\text{kN/m}$"
   ]
  },
  {
   "cell_type": "code",
   "execution_count": 11,
   "id": "c6506fd7-da2d-4761-b919-1bd68502ff43",
   "metadata": {},
   "outputs": [
    {
     "data": {
      "text/latex": [
       "$\\displaystyle \\left[\\begin{matrix}-15.0\\\\-7.5\\\\-15.0\\\\7.5\\end{matrix}\\right]$"
      ],
      "text/plain": [
       "Matrix([\n",
       "[-15.0],\n",
       "[ -7.5],\n",
       "[-15.0],\n",
       "[  7.5]])"
      ]
     },
     "execution_count": 11,
     "metadata": {},
     "output_type": "execute_result"
    }
   ],
   "source": [
    "P1 = P_uniformly_distributed_load(q=q1_load, L=L1)\n",
    "round_expr(P1, 2)"
   ]
  },
  {
   "cell_type": "markdown",
   "id": "00e0d96a-9214-442a-8077-803d5447ba27",
   "metadata": {},
   "source": [
    "### Στοιχείο 3\n",
    "Το στοιχείο 3 παραλαμβάνει ομοιόμορφα κατανεμημένο φορτίο $q_2=40\\text{kN/m}$"
   ]
  },
  {
   "cell_type": "code",
   "execution_count": 12,
   "id": "5a79b732-6d9b-4207-bcf9-9a8350c479e6",
   "metadata": {},
   "outputs": [
    {
     "data": {
      "text/latex": [
       "$\\displaystyle \\left[\\begin{matrix}-80.0\\\\-53.33\\\\-80.0\\\\53.33\\end{matrix}\\right]$"
      ],
      "text/plain": [
       "Matrix([\n",
       "[ -80.0],\n",
       "[-53.33],\n",
       "[ -80.0],\n",
       "[ 53.33]])"
      ]
     },
     "execution_count": 12,
     "metadata": {},
     "output_type": "execute_result"
    }
   ],
   "source": [
    "P3 = P_uniformly_distributed_load(q=q2_load, L=L3)\n",
    "round_expr(P3, 2)"
   ]
  },
  {
   "cell_type": "markdown",
   "id": "36592692-5513-471d-a07e-6c996f4a166e",
   "metadata": {},
   "source": [
    "### Συνολικό μητρώο εξωτερικής φόρτισης\n",
    "\n",
    "Για να προκύψει το συνολικό μητρώο $P$, συνδυάζονται τα επιμέρους μητρώα των δύο στοιχείων, λαμβάνοντας υπόψη τη συσχέτιση των τοπικών με τους καθολικούς βαθμούς ελευθερίας\n",
    "\n",
    "| Καθολ. Συστ. | (1) | (2) | (3) | (4) | (5) | (6) | (7) | (8) | (9) |\n",
    "|--------------|-----|-----|-----|-----|-----|-----|-----|-----|-----|\n",
    "| 1-2          | -1  |     |  2  | -3  |  4  |     |     |     |     |\n",
    "| 2-3          |     | 1   |     |     |  2  |  3  | 4   |     |     |\n",
    "| 2-4          |     |     |     |     |     |  1  | 2   | 3   | 4   |\n",
    "\n",
    "Δημιουργείται ένα μητρώο 9x1 και στη συνέχεια προστίθενται οι τιμές στις κατάλληλες θέσεις\n",
    "\n",
    "Προσοχή στα πρόσημα στη μεταφορά των δυνάμεων του στοιχείου 1"
   ]
  },
  {
   "cell_type": "code",
   "execution_count": 13,
   "id": "4ccd5fec-3c51-46d2-9c30-001219c1182a",
   "metadata": {},
   "outputs": [
    {
     "data": {
      "text/latex": [
       "$\\displaystyle \\left[\\begin{matrix}15.0\\\\0\\\\-7.5\\\\15.0\\\\7.5\\\\0\\\\0\\\\0\\\\0\\end{matrix}\\right]$"
      ],
      "text/plain": [
       "Matrix([\n",
       "[15.0],\n",
       "[   0],\n",
       "[-7.5],\n",
       "[15.0],\n",
       "[ 7.5],\n",
       "[   0],\n",
       "[   0],\n",
       "[   0],\n",
       "[   0]])"
      ]
     },
     "execution_count": 13,
     "metadata": {},
     "output_type": "execute_result"
    }
   ],
   "source": [
    "P1_temp = sym.zeros(9,1)\n",
    "P1_temp[0, 0] += -P1[0]\n",
    "P1_temp[2, 0] += P1[1]\n",
    "P1_temp[3, 0] += -P1[2]\n",
    "P1_temp[4, 0] += P1[3]\n",
    "P1_temp"
   ]
  },
  {
   "cell_type": "code",
   "execution_count": 14,
   "id": "c02099d8-4625-4c7f-96c7-7f31392e1c20",
   "metadata": {},
   "outputs": [
    {
     "data": {
      "text/latex": [
       "$\\displaystyle \\left[\\begin{matrix}0\\\\0\\\\0\\\\0\\\\0\\\\-80.0\\\\-53.33\\\\-80.0\\\\53.33\\end{matrix}\\right]$"
      ],
      "text/plain": [
       "Matrix([\n",
       "[     0],\n",
       "[     0],\n",
       "[     0],\n",
       "[     0],\n",
       "[     0],\n",
       "[ -80.0],\n",
       "[-53.33],\n",
       "[ -80.0],\n",
       "[ 53.33]])"
      ]
     },
     "execution_count": 14,
     "metadata": {},
     "output_type": "execute_result"
    }
   ],
   "source": [
    "P3_temp = sym.zeros(9,1)\n",
    "P3_temp[5:,0] += P3\n",
    "round_expr(P3_temp, 2)"
   ]
  },
  {
   "cell_type": "code",
   "execution_count": 15,
   "id": "a44bfae3-74ea-46ad-908d-61a98255e770",
   "metadata": {},
   "outputs": [
    {
     "data": {
      "text/latex": [
       "$\\displaystyle \\left[\\begin{matrix}15.0\\\\0\\\\-7.5\\\\15.0\\\\7.5\\\\-80.0\\\\-53.33\\\\-80.0\\\\53.33\\end{matrix}\\right]$"
      ],
      "text/plain": [
       "Matrix([\n",
       "[  15.0],\n",
       "[     0],\n",
       "[  -7.5],\n",
       "[  15.0],\n",
       "[   7.5],\n",
       "[ -80.0],\n",
       "[-53.33],\n",
       "[ -80.0],\n",
       "[ 53.33]])"
      ]
     },
     "execution_count": 15,
     "metadata": {},
     "output_type": "execute_result"
    }
   ],
   "source": [
    "P = P1_temp + P3_temp\n",
    "round_expr(P, 2)"
   ]
  },
  {
   "cell_type": "markdown",
   "id": "f36b3b66-92ba-413c-82dc-f27d69620ce5",
   "metadata": {},
   "source": [
    "## Δεσμευμένοι και ελεύθεροι βαθμοί ελευθερίας\n",
    "\n",
    "Οι δεσμευμένοι βαθμοί ελευθερίας στο καθολικό σύστημα είναι οι <span style=\"color:red\">(1)</span>, <span style=\"color:red\">(2)</span>, <span style=\"color:red\">(3)</span>, <span style=\"color:red\">(4)</span>, <span style=\"color:red\">(6)</span>, <span style=\"color:red\">(8)</span> και <span style=\"color:red\">(9)</span> λόγω της κύλισης στον κόμβο 3 και των πακτώσεων στους κόμβους 1 και 4.\n",
    "\n",
    "Αντίθετα, ελεύθεροι είναι οι βαθμοί ελευθερίας <span style=\"color:blue\">(5)</span> και <span style=\"color:blue\">(7)</span>\n",
    "\n",
    "<img src=\"https://raw.githubusercontent.com/panagop/ihu_courses/main/images/mitroa/example5/dof_global_local.png\" width=\"650\">"
   ]
  },
  {
   "cell_type": "markdown",
   "id": "cc4c1ed5-114f-4d49-8778-ccfe93f7058f",
   "metadata": {},
   "source": [
    "## Διαχωρισμός μητρώων\n",
    "\n",
    "<img src=\"https://raw.githubusercontent.com/panagop/ihu_courses/main/images/mitroa/example5/Kuu_vs_Kru.png\" width=\"800\">\n",
    "\n",
    "| Καθολ. Συστ. | <span style=\"color:red\">(1)</span> | <span style=\"color:red\">(2)</span> | <span style=\"color:red\">(3)</span> | <span style=\"color:red\">(4)</span> | <span style=\"color:blue\">(5)</span> | <span style=\"color:red\">(6)</span> | <span style=\"color:blue\">(7)</span> | <span style=\"color:red\">(8)</span> | <span style=\"color:red\">(9)</span> |\n",
    "|--------------|-----|-----|-----|-----|-----|-----|-----|-----|-----|\n",
    "| 1-2          | -1  |     |  2  | -3  |  4  |     |     |     |     |\n",
    "| 2-3          |     | 1   |     |     |  2  |  3  | 4   |     |     |\n",
    "| 3-4          |     |     |     |     |     |  1  | 2   | 3   | 4   |\n",
    "\n",
    "\n"
   ]
  },
  {
   "cell_type": "markdown",
   "id": "6def730b-9fbe-4bfa-82c6-862abd7c9be1",
   "metadata": {},
   "source": [
    "Ομοίως και για τα μητρώα εξωτερικής φόρτισης, παραμορφώσεων και αντιδράσεων\n",
    "\n",
    "<img src=\"https://raw.githubusercontent.com/panagop/ihu_courses/main/images/mitroa/example5/PUR.png\" width=\"750\">"
   ]
  },
  {
   "cell_type": "markdown",
   "id": "d7333fd2-f965-41b7-9d2c-caf1458a65ec",
   "metadata": {},
   "source": [
    "### Υπομητρώα στιβαρότητας"
   ]
  },
  {
   "cell_type": "code",
   "execution_count": 16,
   "id": "61776c86-3d71-41e2-a0f7-f1544abe64be",
   "metadata": {},
   "outputs": [
    {
     "data": {
      "text/latex": [
       "$\\displaystyle \\left[\\begin{matrix}56666.7 & 15000.0\\\\15000.0 & 60000.0\\end{matrix}\\right]$"
      ],
      "text/plain": [
       "Matrix([\n",
       "[56666.7, 15000.0],\n",
       "[15000.0, 60000.0]])"
      ]
     },
     "execution_count": 16,
     "metadata": {},
     "output_type": "execute_result"
    }
   ],
   "source": [
    "K_UU = K[[4,6], [4,6]]\n",
    "round_expr(K_UU, 1)"
   ]
  },
  {
   "cell_type": "code",
   "execution_count": 17,
   "id": "c434349a-9c4a-4299-9900-ebc3eac42d61",
   "metadata": {},
   "outputs": [
    {
     "data": {
      "text/latex": [
       "$\\displaystyle \\left[\\begin{matrix}-13333.3 & 0\\\\11250.0 & 11250.0\\\\13333.3 & 0\\\\13333.3 & 0\\\\-11250.0 & 0\\\\0 & -11250.0\\\\0 & 15000.0\\end{matrix}\\right]$"
      ],
      "text/plain": [
       "Matrix([\n",
       "[-13333.3,        0],\n",
       "[ 11250.0,  11250.0],\n",
       "[ 13333.3,        0],\n",
       "[ 13333.3,        0],\n",
       "[-11250.0,        0],\n",
       "[       0, -11250.0],\n",
       "[       0,  15000.0]])"
      ]
     },
     "execution_count": 17,
     "metadata": {},
     "output_type": "execute_result"
    }
   ],
   "source": [
    "K_RU = K[[0, 1, 2, 3, 5, 7, 8], [4, 6]]\n",
    "round_expr(K_RU, 1)"
   ]
  },
  {
   "cell_type": "markdown",
   "id": "022b22a7-c1c0-4303-8fae-7f9f0c24a1e8",
   "metadata": {},
   "source": [
    "### Υπομητρώα εξωτερικής φόρτισης"
   ]
  },
  {
   "cell_type": "code",
   "execution_count": 18,
   "id": "868a3674-b31a-46c5-95f1-396bbaa97f5b",
   "metadata": {},
   "outputs": [
    {
     "data": {
      "text/latex": [
       "$\\displaystyle \\left[\\begin{matrix}7.5\\\\-53.33\\end{matrix}\\right]$"
      ],
      "text/plain": [
       "Matrix([\n",
       "[   7.5],\n",
       "[-53.33]])"
      ]
     },
     "execution_count": 18,
     "metadata": {},
     "output_type": "execute_result"
    }
   ],
   "source": [
    "P_U = P[[4,6], 0]\n",
    "round_expr(P_U, 2)"
   ]
  },
  {
   "cell_type": "code",
   "execution_count": 19,
   "id": "12b48cf8-e2a3-4fc0-907b-9b417cf22d53",
   "metadata": {},
   "outputs": [
    {
     "data": {
      "text/latex": [
       "$\\displaystyle \\left[\\begin{matrix}15.0\\\\0\\\\-7.5\\\\15.0\\\\-80.0\\\\-80.0\\\\53.33\\end{matrix}\\right]$"
      ],
      "text/plain": [
       "Matrix([\n",
       "[ 15.0],\n",
       "[    0],\n",
       "[ -7.5],\n",
       "[ 15.0],\n",
       "[-80.0],\n",
       "[-80.0],\n",
       "[53.33]])"
      ]
     },
     "execution_count": 19,
     "metadata": {},
     "output_type": "execute_result"
    }
   ],
   "source": [
    "P_R = P[[0, 1, 2, 3, 5, 7, 8], 0]\n",
    "round_expr(P_R, 2)"
   ]
  },
  {
   "cell_type": "markdown",
   "id": "d82606c2-56cc-45af-a134-b377eaca5f17",
   "metadata": {},
   "source": [
    "## Υπολογισμός παραμορφώσεων"
   ]
  },
  {
   "cell_type": "markdown",
   "id": "87d7e72b-784b-486e-9c10-7d7641b4a74d",
   "metadata": {},
   "source": [
    "Είναι $K_{UU}\\cdot U_U = P_U + R_U$, με $R_U=0$\n",
    "\n",
    "οπότε $K_{UU}\\cdot U_U = P_U$\n",
    "\n",
    "και τελικά $U_U = K_{UU}^{-1}\\cdot P_U$"
   ]
  },
  {
   "cell_type": "code",
   "execution_count": 20,
   "id": "ac14225c-6356-412d-a9fa-9605184e0c4e",
   "metadata": {},
   "outputs": [
    {
     "data": {
      "text/latex": [
       "$\\displaystyle \\left[\\begin{matrix}0.00039\\\\-0.00099\\end{matrix}\\right]$"
      ],
      "text/plain": [
       "Matrix([\n",
       "[ 0.00039],\n",
       "[-0.00099]])"
      ]
     },
     "execution_count": 20,
     "metadata": {},
     "output_type": "execute_result"
    }
   ],
   "source": [
    "U_U = K_UU.inv() * P_U\n",
    "round_expr(U_U, 5)"
   ]
  },
  {
   "cell_type": "markdown",
   "id": "c153db81-3a2b-4c25-9165-b7dc5b1d3201",
   "metadata": {},
   "source": [
    "## Υπολογισμός αντιδράσεων στήριξης"
   ]
  },
  {
   "cell_type": "markdown",
   "id": "35b6fed5-b803-4bd7-a9c8-3ff3ff526729",
   "metadata": {},
   "source": [
    "Είναι $K_{RU}\\cdot U_U = P_R + R_R$\n",
    "\n",
    "οπότε $R_R = K_{RU}\\cdot U_U - P_R$"
   ]
  },
  {
   "cell_type": "code",
   "execution_count": 21,
   "id": "f92e2a10-09b2-482b-b735-44b9afa65643",
   "metadata": {},
   "outputs": [
    {
     "data": {
      "text/latex": [
       "$\\displaystyle \\left[\\begin{matrix}-20.249\\\\-6.678\\\\12.749\\\\-9.751\\\\75.571\\\\91.107\\\\-68.143\\end{matrix}\\right]$"
      ],
      "text/plain": [
       "Matrix([\n",
       "[-20.249],\n",
       "[ -6.678],\n",
       "[ 12.749],\n",
       "[ -9.751],\n",
       "[ 75.571],\n",
       "[ 91.107],\n",
       "[-68.143]])"
      ]
     },
     "execution_count": 21,
     "metadata": {},
     "output_type": "execute_result"
    }
   ],
   "source": [
    "R_R = K_RU*U_U - P_R\n",
    "round_expr(R_R, 3)"
   ]
  },
  {
   "cell_type": "markdown",
   "id": "a4122e2e-d5eb-4974-a10b-3d7cdc12611c",
   "metadata": {},
   "source": [
    "## Επίλυση/έλεγχος με το OpenSees"
   ]
  },
  {
   "cell_type": "code",
   "execution_count": 22,
   "id": "4050b838-3324-4f3d-bebd-89250737010e",
   "metadata": {},
   "outputs": [
    {
     "data": {
      "image/png": "[encoded data removed]",
      "text/plain": [
       "<Figure size 640x480 with 1 Axes>"
      ]
     },
     "metadata": {},
     "output_type": "display_data"
    },
    {
     "data": {
      "image/png": "[encoded data removed]",
      "text/plain": [
       "<Figure size 640x480 with 1 Axes>"
      ]
     },
     "metadata": {},
     "output_type": "display_data"
    },
    {
     "data": {
      "image/png": "[encoded data removed]",
      "text/plain": [
       "<Figure size 640x480 with 1 Axes>"
      ]
     },
     "metadata": {},
     "output_type": "display_data"
    },
    {
     "data": {
      "image/png": "[encoded data removed]",
      "text/plain": [
       "<Figure size 640x480 with 1 Axes>"
      ]
     },
     "metadata": {},
     "output_type": "display_data"
    },
    {
     "data": {
      "image/png": "[encoded data removed]",
      "text/plain": [
       "<Figure size 640x480 with 1 Axes>"
      ]
     },
     "metadata": {},
     "output_type": "display_data"
    },
    {
     "data": {
      "image/png": "[encoded data removed]",
      "text/plain": [
       "<Figure size 640x480 with 1 Axes>"
      ]
     },
     "metadata": {},
     "output_type": "display_data"
    }
   ],
   "source": [
    "ops.wipe()\n",
    "ops.model('basic', '-ndm', 2, '-ndf', 3)\n",
    "\n",
    "A = 1000.\n",
    "I = 1.\n",
    "E = 10_000.\n",
    "\n",
    "ops.node(1, 0., 0.)\n",
    "ops.node(2, 0., L1)\n",
    "ops.node(3, L2, L1)\n",
    "ops.node(4, 2*L2, L1)\n",
    "\n",
    "ops.fix(1, 1, 1, 1)\n",
    "ops.fix(3, 0, 1, 0)\n",
    "ops.fix(4, 1, 1, 1)\n",
    "\n",
    "# opsv.plot_model()\n",
    "# plt.title('plot_model before defining elements')\n",
    "\n",
    "ops.geomTransf('Linear', 1)\n",
    "\n",
    "# elements\n",
    "ops.element('elasticBeamColumn', 1, 1, 2, 1000*A, E, I, 1)\n",
    "ops.element('elasticBeamColumn', 2, 2, 3, 1000*A, E, 1.5*I, 1)\n",
    "ops.element('elasticBeamColumn', 3, 3, 4, 1000*A, E, 1.5*I, 1)\n",
    "\n",
    "\n",
    "# loads\n",
    "ops.timeSeries('Constant', 1)\n",
    "ops.pattern('Plain', 1, 1)\n",
    "\n",
    "ops.eleLoad('-ele', 1, '-type', '-beamUniform', -q1_load)\n",
    "ops.eleLoad('-ele', 3, '-type', '-beamUniform', -q2_load)\n",
    "\n",
    "\n",
    "\n",
    "# analysis\n",
    "ops.constraints('Transformation')\n",
    "ops.numberer('RCM')\n",
    "ops.system('BandGeneral')\n",
    "ops.test('NormDispIncr', 1.0e-6, 6, 2)\n",
    "ops.algorithm('Linear')\n",
    "ops.integrator('LoadControl', 1)\n",
    "ops.analysis('Static')\n",
    "ops.analyze(1)\n",
    "\n",
    "# results\n",
    "# ops.printModel()\n",
    "opsv.plot_model()\n",
    "plt.title('plot_model after defining elements')\n",
    "\n",
    "opsv.plot_loads_2d()\n",
    "plt.title('loads')\n",
    "\n",
    "sfac = 10.\n",
    "opsv.plot_defo(sfac)\n",
    "plt.title('deformations')\n",
    "\n",
    "sfacN, sfacV, sfacM = 1.e-2, 1.e-2, 1.e-2\n",
    "opsv.section_force_diagram_2d('N', sfacN)\n",
    "plt.title('Axial force distribution')\n",
    "\n",
    "opsv.section_force_diagram_2d('T', sfacV)\n",
    "plt.title('Shear force distribution')\n",
    "\n",
    "opsv.section_force_diagram_2d('M', sfacM)\n",
    "plt.title('Bending moment distribution')\n",
    "\n",
    "\n",
    "plt.show()"
   ]
  },
  {
   "cell_type": "code",
   "execution_count": 23,
   "id": "322fa21d-f748-4ad8-909e-a26139fd2b71",
   "metadata": {},
   "outputs": [],
   "source": [
    "# U1, U2, U3, U4, U5, U6, U7, U8, U9 = sym.symbols('U1 U2 U3 U4 U5 U6 U7 U8 U9')\n",
    "# P1, P2, P3, P4, P5, P6, P7, P8, P9 = sym.symbols('P1 P2 P3 P4 P5 P6 P7 P8 P9')\n",
    "# R1, R2, R3, R4, R5, R6, R7, R8, R9 = sym.symbols('R1 R2 R3 R4 R5 R6 R7 R8 R9')"
   ]
  },
  {
   "cell_type": "code",
   "execution_count": 24,
   "id": "2da8b8b3-c2a6-40a5-85d0-c231d36b3c76",
   "metadata": {},
   "outputs": [],
   "source": [
    "# U = Matrix([[U1], [U2], [U3], [U4], [U5], [U6], [U7], [U8], [U9]])\n",
    "# U"
   ]
  },
  {
   "cell_type": "code",
   "execution_count": 25,
   "id": "40dff2a2-ad32-41ac-bf9a-cec2942c4d7d",
   "metadata": {},
   "outputs": [],
   "source": [
    "# U.subs(U1, 0).subs(U2, 0).subs(U3, 0).subs(U4, 0).subs(U6, 0).subs(U8, 0).subs(U9, 0)"
   ]
  },
  {
   "cell_type": "code",
   "execution_count": 26,
   "id": "fba624b6-8a03-4192-99eb-43ab9c9e505a",
   "metadata": {},
   "outputs": [],
   "source": [
    "# P = Matrix([[P1], [P2], [P3], [P4], [P5], [P6], [P7]])\n",
    "# P"
   ]
  },
  {
   "cell_type": "code",
   "execution_count": 27,
   "id": "8dc04975-f690-4bd0-aab6-3836cfe4aeb8",
   "metadata": {},
   "outputs": [],
   "source": [
    "# R = Matrix([[R1], [R2], [R3], [R4], [R5], [R6], [R7], [R8], [R9]])\n",
    "# R"
   ]
  },
  {
   "cell_type": "code",
   "execution_count": 28,
   "id": "a4ca163e-602e-42b7-971b-b60d8bb7eafe",
   "metadata": {},
   "outputs": [],
   "source": [
    "# R.subs(R5, 0).subs(R7, 0)"
   ]
  }
 ],
 "metadata": {
  "kernelspec": {
   "display_name": "Python 3 (ipykernel)",
   "language": "python",
   "name": "python3"
  },
  "language_info": {
   "codemirror_mode": {
    "name": "ipython",
    "version": 3
   },
   "file_extension": ".py",
   "mimetype": "text/x-python",
   "name": "python",
   "nbconvert_exporter": "python",
   "pygments_lexer": "ipython3",
   "version": "3.9.13"
  },
  "vscode": {
   "interpreter": {
    "hash": "f55b14aa61f955e08137ed44649b0108f4fb88a00326148a0cbff67d5b2ac0af"
   }
  }
 },
 "nbformat": 4,
 "nbformat_minor": 5
}
