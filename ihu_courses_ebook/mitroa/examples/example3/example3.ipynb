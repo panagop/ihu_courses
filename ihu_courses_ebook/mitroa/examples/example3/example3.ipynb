{
 "cells": [
  {
   "cell_type": "markdown",
   "metadata": {},
   "source": [
    "# Εφαρμογή 3"
   ]
  },
  {
   "cell_type": "code",
   "execution_count": 1,
   "metadata": {},
   "outputs": [],
   "source": [
    "import sympy as sym\n",
    "from sympy import Matrix\n",
    "from mitroiki_functs import round_expr\n",
    "\n",
    "from IPython.display import Image"
   ]
  },
  {
   "cell_type": "code",
   "execution_count": 2,
   "metadata": {},
   "outputs": [
    {
     "data": {
      "image/png": "[encoded data removed]",
      "text/plain": [
       "<IPython.core.display.Image object>"
      ]
     },
     "execution_count": 2,
     "metadata": {
      "image/png": {
       "width": 700
      }
     },
     "output_type": "execute_result"
    }
   ],
   "source": [
    "Image('https://raw.githubusercontent.com/panagop/ihu_courses/main/shared/images/mitroa/example3/ekfonisi.png', width=700)"
   ]
  },
  {
   "cell_type": "markdown",
   "metadata": {},
   "source": [
    "## Python functions"
   ]
  },
  {
   "cell_type": "markdown",
   "metadata": {},
   "source": [
    "### Συναρτήσεις μητρώων στιβαρότητας"
   ]
  },
  {
   "cell_type": "code",
   "execution_count": 3,
   "metadata": {},
   "outputs": [],
   "source": [
    "def K_with_axial(A: float, E: float, I: float, L: float) -> Matrix:\n",
    "    \"\"\"Return the stiffness matrix for an element with axial force.\n",
    "\n",
    "    Args:\n",
    "        A: Cross-sectional area of the element.\n",
    "        E: Young's modulus of the element.\n",
    "        I: Moment of inertia of the element.\n",
    "        L: Length of the element.\n",
    "\n",
    "    Returns:\n",
    "        The stiffness matrix for the element.\n",
    "    \"\"\"\n",
    "    k = Matrix([[A*E/L, 0, 0, -A*E/L, 0, 0],\n",
    "                [0, 12*E*I/L**3, 6*E*I/L**2, 0, -12*E*I/L**3, 6*E*I/L**2],\n",
    "                [0, 6*E*I/L**2, 4*E*I/L, 0, -6*E*I/L**2, 2*E*I/L],\n",
    "                [-A*E/L, 0, 0, A*E/L, 0, 0],\n",
    "                [0, -12*E*I/L**3, -6*E*I/L**2, 0, 12*E*I/L**3, -6*E*I/L**2],\n",
    "                [0, 6*E*I/L**2, 2*E*I/L, 0, -6*E*I/L**2, 4*E*I/L]])\n",
    "    return k\n",
    "\n",
    "\n",
    "def K_without_axial(E: float, I: float, L: float) -> Matrix:\n",
    "    \"\"\"Return the stiffness matrix for an element with axial force.\n",
    "\n",
    "    Args:\n",
    "        E: Young's modulus of the element.\n",
    "        I: Moment of inertia of the element.\n",
    "        L: Length of the element.\n",
    "\n",
    "    Returns:\n",
    "        The stiffness matrix for the element.\n",
    "    \"\"\"\n",
    "    k = Matrix([[12*E*I/L**3, 6*E*I/L**2, -12*E*I/L**3, 6*E*I/L**2],\n",
    "        [6*E*I/L**2, 4*E*I/L, -6*E*I/L**2, 2*E*I/L],\n",
    "        [-12*E*I/L**3, -6*E*I/L**2, 12*E*I/L**3, -6*E*I/L**2],\n",
    "        [6*E*I/L**2, 2*E*I/L, -6*E*I/L**2, 4*E*I/L]])\n",
    "    return k\n"
   ]
  },
  {
   "cell_type": "markdown",
   "metadata": {},
   "source": [
    "### Συναρτήσεις μητρώων εξωτερικής φόρτισης"
   ]
  },
  {
   "cell_type": "code",
   "execution_count": 4,
   "metadata": {},
   "outputs": [],
   "source": [
    "def P_uniformly_distributed_load(q: float, L: float) -> Matrix:\n",
    "    \"\"\"Return the force vector for a uniformly distributed load.\n",
    "\n",
    "    Args:\n",
    "        q: Load per unit length.\n",
    "        L: Length of the element.\n",
    "\n",
    "    Returns:\n",
    "        The force vector for the element.\n",
    "    \"\"\"\n",
    "    p = Matrix([[-q*L/2],\n",
    "                [-q*L**2/12],\n",
    "                [-q*L/2],\n",
    "                [q*L**2/12]])\n",
    "    return p\n",
    "\n",
    "def P_point_load_at_distance_a(P: float, L: float, a: float) -> Matrix:\n",
    "    \"\"\"Return the force vector for a point load at distance a.\n",
    "\n",
    "    Args:\n",
    "        P: Point load.\n",
    "        L: Length of the element.\n",
    "        a: Distance from the start of the element.\n",
    "\n",
    "    Returns:\n",
    "        The force vector for the element.\n",
    "    \"\"\"\n",
    "    b = L - a\n",
    "    p = Matrix([[-P*b/L**3*(L**2 - a**2 + a*b)],\n",
    "                [-P*a*b**2/L**2],\n",
    "                [-(P*a/L**3)*(L**2 - b**2 + a*b)],\n",
    "                [P*a**2*b/L**2]])\n",
    "    return p"
   ]
  },
  {
   "cell_type": "markdown",
   "metadata": {},
   "source": [
    "## Επίλυση"
   ]
  },
  {
   "cell_type": "markdown",
   "metadata": {},
   "source": [
    "### Αντιστοίχιση τοπικών - καθολικών βαθμών ελευθερίας\n",
    "\n",
    "Ο πρόβολος αφαιρείται από τον φορέα, μεταφέροντας τα φορτία του στην αριστερή στήριξη.\n",
    "\n",
    "Επομένως ο τελικός φορέας που θα επιλυθεί έχει δύο στοιχεία, ως εξής:\n",
    "\n",
    "| Καθολ. Συστ. | (1) | (2) | (3) | (4) | (5) | (6) | \n",
    "|--------------|-----|-----|-----|-----|-----|-----|\n",
    "| 1            |  1  |  2  |  3  | 4   |     |     |  \n",
    "| 2            |     |     |  1  | 2   |  3  |  4  | \n"
   ]
  },
  {
   "cell_type": "code",
   "execution_count": 5,
   "metadata": {},
   "outputs": [
    {
     "data": {
      "image/png": "[encoded data removed]",
      "text/plain": [
       "<IPython.core.display.Image object>"
      ]
     },
     "execution_count": 5,
     "metadata": {
      "image/png": {
       "width": 700
      }
     },
     "output_type": "execute_result"
    }
   ],
   "source": [
    "Image(\"https://raw.githubusercontent.com/panagop/ihu_courses/main/shared/images/mitroa/example3/dof_global_local.png\", width=700)"
   ]
  },
  {
   "cell_type": "markdown",
   "metadata": {},
   "source": [
    "### Μητρώα στιβαρότητας"
   ]
  },
  {
   "cell_type": "markdown",
   "metadata": {},
   "source": [
    "#### Μητρώο στιβαρότητας στοιχείου 1"
   ]
  },
  {
   "cell_type": "code",
   "execution_count": 6,
   "metadata": {},
   "outputs": [
    {
     "data": {
      "text/latex": [
       "$\\displaystyle \\left[\\begin{matrix}0.055556 & 0.166667 & -0.055556 & 0.166667\\\\0.166667 & 0.666667 & -0.166667 & 0.333333\\\\-0.055556 & -0.166667 & 0.055556 & -0.166667\\\\0.166667 & 0.333333 & -0.166667 & 0.666667\\end{matrix}\\right]$"
      ],
      "text/plain": [
       "Matrix([\n",
       "[ 0.055556,  0.166667, -0.055556,  0.166667],\n",
       "[ 0.166667,  0.666667, -0.166667,  0.333333],\n",
       "[-0.055556, -0.166667,  0.055556, -0.166667],\n",
       "[ 0.166667,  0.333333, -0.166667,  0.666667]])"
      ]
     },
     "execution_count": 6,
     "metadata": {},
     "output_type": "execute_result"
    }
   ],
   "source": [
    "K1 = K_without_axial(E=1.0, I=1.0, L=6.0)\n",
    "round_expr(K1, 6)"
   ]
  },
  {
   "cell_type": "markdown",
   "metadata": {},
   "source": [
    "#### Μητρώο στιβαρότητας στοιχείου 2"
   ]
  },
  {
   "cell_type": "code",
   "execution_count": 7,
   "metadata": {},
   "outputs": [
    {
     "data": {
      "text/latex": [
       "$\\displaystyle \\left[\\begin{matrix}0.046875 & 0.1875 & -0.046875 & 0.1875\\\\0.1875 & 1.0 & -0.1875 & 0.5\\\\-0.046875 & -0.1875 & 0.046875 & -0.1875\\\\0.1875 & 0.5 & -0.1875 & 1.0\\end{matrix}\\right]$"
      ],
      "text/plain": [
       "Matrix([\n",
       "[ 0.046875,  0.1875, -0.046875,  0.1875],\n",
       "[   0.1875,     1.0,   -0.1875,     0.5],\n",
       "[-0.046875, -0.1875,  0.046875, -0.1875],\n",
       "[   0.1875,     0.5,   -0.1875,     1.0]])"
      ]
     },
     "execution_count": 7,
     "metadata": {},
     "output_type": "execute_result"
    }
   ],
   "source": [
    "K2 = K_without_axial(E=1.0, I=2.0, L=8.0)\n",
    "round_expr(K2, 6)"
   ]
  },
  {
   "cell_type": "markdown",
   "metadata": {},
   "source": [
    "### Μητρώα εξωτερικών φορτίσεων"
   ]
  },
  {
   "cell_type": "markdown",
   "metadata": {},
   "source": [
    "#### Μητρώο εξωτερικών φορτίσεων στοιχείου 1\n",
    "\n",
    "Το στοιχείο 1 έχει τα εξωτερικά φορτία που μεταφέρονται από τον πρόβολο και επιπλέον αυτά που αναππτύσσονται λόγω του ομοιόμορφου φορτίου q και του σημειακού φορτίου P."
   ]
  },
  {
   "cell_type": "code",
   "execution_count": 8,
   "metadata": {},
   "outputs": [
    {
     "data": {
      "text/latex": [
       "$\\displaystyle \\left[\\begin{matrix}-200.0\\\\-240.0\\\\-70.0\\\\120.0\\end{matrix}\\right]$"
      ],
      "text/plain": [
       "Matrix([\n",
       "[-200.0],\n",
       "[-240.0],\n",
       "[ -70.0],\n",
       "[ 120.0]])"
      ]
     },
     "execution_count": 8,
     "metadata": {},
     "output_type": "execute_result"
    }
   ],
   "source": [
    "P1_point = P_point_load_at_distance_a(P=270.0, L=6.0, a=2.0)\n",
    "P1_point"
   ]
  },
  {
   "cell_type": "code",
   "execution_count": 9,
   "metadata": {},
   "outputs": [
    {
     "data": {
      "text/latex": [
       "$\\displaystyle \\left[\\begin{matrix}-40.0\\\\20.0\\\\0\\\\0\\end{matrix}\\right]$"
      ],
      "text/plain": [
       "Matrix([\n",
       "[-40.0],\n",
       "[ 20.0],\n",
       "[    0],\n",
       "[    0]])"
      ]
     },
     "execution_count": 9,
     "metadata": {},
     "output_type": "execute_result"
    }
   ],
   "source": [
    "P1_provolos = Matrix([[-40 * 1.0],\n",
    "                    [40 * 1.0**2 / 2], \n",
    "                    [0],\n",
    "                    [0]])\n",
    "P1_provolos"
   ]
  },
  {
   "cell_type": "code",
   "execution_count": 10,
   "metadata": {},
   "outputs": [
    {
     "data": {
      "text/latex": [
       "$\\displaystyle \\left[\\begin{matrix}-120.0\\\\-120.0\\\\-120.0\\\\120.0\\end{matrix}\\right]$"
      ],
      "text/plain": [
       "Matrix([\n",
       "[-120.0],\n",
       "[-120.0],\n",
       "[-120.0],\n",
       "[ 120.0]])"
      ]
     },
     "execution_count": 10,
     "metadata": {},
     "output_type": "execute_result"
    }
   ],
   "source": [
    "P1_uniform = P_uniformly_distributed_load(q=40.0, L=6.0)\n",
    "P1_uniform"
   ]
  },
  {
   "cell_type": "markdown",
   "metadata": {},
   "source": [
    "οπότε το συνολικό μητρώο εξωτερικών φορτίσεων για το στοιχείο 1 είναι το άθροισμα των 3 παραπάνω μητρώων:"
   ]
  },
  {
   "cell_type": "code",
   "execution_count": 11,
   "metadata": {},
   "outputs": [
    {
     "data": {
      "text/latex": [
       "$\\displaystyle \\left[\\begin{matrix}-360.0\\\\-340.0\\\\-190.0\\\\240.0\\end{matrix}\\right]$"
      ],
      "text/plain": [
       "Matrix([\n",
       "[-360.0],\n",
       "[-340.0],\n",
       "[-190.0],\n",
       "[ 240.0]])"
      ]
     },
     "execution_count": 11,
     "metadata": {},
     "output_type": "execute_result"
    }
   ],
   "source": [
    "P1 = P1_point + P1_provolos + P1_uniform\n",
    "P1"
   ]
  },
  {
   "cell_type": "markdown",
   "metadata": {},
   "source": [
    "Το στοιχείο 2 φέρει τα φορτία μόνο του ομοιόμορφου φορτίου q."
   ]
  },
  {
   "cell_type": "code",
   "execution_count": 12,
   "metadata": {},
   "outputs": [
    {
     "data": {
      "text/latex": [
       "$\\displaystyle \\left[\\begin{matrix}-120.0\\\\-160.0\\\\-120.0\\\\160.0\\end{matrix}\\right]$"
      ],
      "text/plain": [
       "Matrix([\n",
       "[-120.0],\n",
       "[-160.0],\n",
       "[-120.0],\n",
       "[ 160.0]])"
      ]
     },
     "execution_count": 12,
     "metadata": {},
     "output_type": "execute_result"
    }
   ],
   "source": [
    "P2 = P2_uniform = P_uniformly_distributed_load(q=30.0, L=8.0)\n",
    "P2"
   ]
  },
  {
   "cell_type": "markdown",
   "metadata": {},
   "source": [
    "#### Συνολικό μητρώο στιβαρότητας (συνδυασμός στοιχείων 1 και 2)\n",
    "\n",
    "Είναι διαστάσεων 6x6 και δημιουργείται από το συνδυασμό των επιμέρους μητρώων, βάσει της αντιστοίχισης των βαθμών ελευθερίας στο καθολικό σύστημα συντεταγμένων\n",
    "\n",
    "Δημιουργείται ένα μηδενικό μητρώο 6x6 και σταδιακά προστίθενται οι τιμές στις κατάλληλες θέσεις\n"
   ]
  },
  {
   "cell_type": "code",
   "execution_count": 13,
   "metadata": {},
   "outputs": [
    {
     "data": {
      "text/latex": [
       "$\\displaystyle \\left[\\begin{matrix}0.055556 & 0.166667 & -0.055556 & 0.166667 & 0 & 0\\\\0.166667 & 0.666667 & -0.166667 & 0.333333 & 0 & 0\\\\-0.055556 & -0.166667 & 0.102431 & 0.020833 & -0.046875 & 0.1875\\\\0.166667 & 0.333333 & 0.020833 & 1.666667 & -0.1875 & 0.5\\\\0 & 0 & -0.046875 & -0.1875 & 0.046875 & -0.1875\\\\0 & 0 & 0.1875 & 0.5 & -0.1875 & 1.0\\end{matrix}\\right]$"
      ],
      "text/plain": [
       "Matrix([\n",
       "[ 0.055556,  0.166667, -0.055556, 0.166667,         0,       0],\n",
       "[ 0.166667,  0.666667, -0.166667, 0.333333,         0,       0],\n",
       "[-0.055556, -0.166667,  0.102431, 0.020833, -0.046875,  0.1875],\n",
       "[ 0.166667,  0.333333,  0.020833, 1.666667,   -0.1875,     0.5],\n",
       "[        0,         0, -0.046875,  -0.1875,  0.046875, -0.1875],\n",
       "[        0,         0,    0.1875,      0.5,   -0.1875,     1.0]])"
      ]
     },
     "execution_count": 13,
     "metadata": {},
     "output_type": "execute_result"
    }
   ],
   "source": [
    "# Δημιουργώ αρχικά ένα μηδενικό μητρώο 6x6 με όλα τα στοιχεία του μηδενικά\n",
    "K = sym.zeros(6, 6)\n",
    "# Στη συνέχεια προσθέτω τις τιμές του K1 στις αντίστοιχες θέσεις του K \n",
    "# (από 0 έως 3 στην python δηλαδή 1 έως 4 με αρίθμηση ξεκινώντας από το 1)\n",
    "K[:4, :4] += K1\n",
    "# και ομοίως για το K2 στις θέσεις 2 έως 5 στην python (3 έως 6 με αρίθμηση από το 1)\n",
    "K[2:, 2:] += K2\n",
    "# Οπότε τελικά προκύπτει το συνολικό K\n",
    "round_expr(K, 6)"
   ]
  },
  {
   "cell_type": "markdown",
   "metadata": {},
   "source": [
    "#### Συνολικό μητρώο φορτίσεων\n",
    "Το τελικό μητρώο φορτίσεων είναι διαστάσεων 6x1 και προκύπτει από την επαλληλία μητρώων των 2 παραπάνω στοιχείων:"
   ]
  },
  {
   "cell_type": "code",
   "execution_count": 14,
   "metadata": {},
   "outputs": [
    {
     "data": {
      "text/latex": [
       "$\\displaystyle \\left[\\begin{matrix}-360.0\\\\-340.0\\\\-310.0\\\\80.0\\\\-120.0\\\\160.0\\end{matrix}\\right]$"
      ],
      "text/plain": [
       "Matrix([\n",
       "[-360.0],\n",
       "[-340.0],\n",
       "[-310.0],\n",
       "[  80.0],\n",
       "[-120.0],\n",
       "[ 160.0]])"
      ]
     },
     "execution_count": 14,
     "metadata": {},
     "output_type": "execute_result"
    }
   ],
   "source": [
    "# Δημιουργώ αρχικά ένα μηδενικό μητρώο 6x6 με όλα τα στοιχεία του μηδενικά\n",
    "P = sym.zeros(6, 1)\n",
    "# Στη συνέχεια προσθέτω τις τιμές του K1 στις αντίστοιχες θέσεις του K \n",
    "# (από 0 έως 3 στην python δηλαδή 1 έως 4 με αρίθμηση ξεκινώντας από το 1)\n",
    "P[:4, 0] += P1\n",
    "# και ομοίως για το K2 στις θέσεις 2 έως 5 στην python (3 έως 6 με αρίθμηση από το 1)\n",
    "P[2:, 0] += P2\n",
    "# Οπότε τελικά προκύπτει το συνολικό K\n",
    "P"
   ]
  },
  {
   "cell_type": "markdown",
   "metadata": {},
   "source": [
    "### Δεσμευμένοι και ελεύθεροι βαθμοί ελευθερίας\n",
    "\n",
    "Οι δεσμευμένοι βαθμοί ελευθερίας στο καθολικό σύστημα είναι οι <span style=\"color:red\">(1)</span>, <span style=\"color:red\">(3)</span>, <span style=\"color:red\">(5)</span> και <span style=\"color:red\">(6)</span> λόγω των συνθηκών στήριξης.\n",
    "\n",
    "Αντίθετα, ελεύθεροι είναι οι βαθμοί ελευθερίας <span style=\"color:blue\">(2)</span> και <span style=\"color:blue\">(4)</span>\n",
    "\n",
    "| Καθολ. Συστ. | <span style=\"color:red\">(1)</span> | <span style=\"color:blue\">(2)</span> | <span style=\"color:red\">(3)</span> | <span style=\"color:blue\">(4)</span> | <span style=\"color:red\">(5)</span>|<span style=\"color:red\">(6)</span>| \n",
    "|--------------|-----|-----|-----|-----|-----|-----|\n",
    "| 1            |  1  |  2  |  3  | 4   |     |     |  \n",
    "| 2            |     |     |  1  | 2   |  3  |  4  | "
   ]
  },
  {
   "cell_type": "markdown",
   "metadata": {},
   "source": [
    "### Μητρώο παραμορφώσεων"
   ]
  },
  {
   "cell_type": "markdown",
   "metadata": {},
   "source": [
    "Το μητρώο παραμορφώσεων U θα είναι διαστάσεων 6x1 (2 παραμορφώσεις: κατακόρυφη μετακίνηση και στροφή σε κάθε κόμβο).\n",
    "Από τις συνθήκες στήριξης αναγνωρίζεται ότι οι μη μηδενικές τιμές θα είναι αυτές των U2 και U4."
   ]
  },
  {
   "cell_type": "code",
   "execution_count": 15,
   "metadata": {},
   "outputs": [
    {
     "data": {
      "text/latex": [
       "$\\displaystyle \\left[\\begin{matrix}0\\\\U_{2}\\\\0\\\\U_{4}\\\\0\\\\0\\end{matrix}\\right]$"
      ],
      "text/plain": [
       "Matrix([\n",
       "[ 0],\n",
       "[U2],\n",
       "[ 0],\n",
       "[U4],\n",
       "[ 0],\n",
       "[ 0]])"
      ]
     },
     "execution_count": 15,
     "metadata": {},
     "output_type": "execute_result"
    }
   ],
   "source": [
    "U2, U4 = sym.symbols('U2 U4')\n",
    "U = Matrix([[0], [U2], [0], [U4], [0], [0]])\n",
    "U"
   ]
  },
  {
   "cell_type": "markdown",
   "metadata": {},
   "source": [
    "### Μητρώο αντιδράσεων"
   ]
  },
  {
   "cell_type": "markdown",
   "metadata": {},
   "source": [
    "Το μητρώο αντιδράσεων R θα είναι διαστάσεων 6x1 (2 αντιδράσεις: κατακόρυφη δύναμη και ροπή σε κάθε κόμβο).\n",
    "Από τις συνθήκες στήριξης αναγνωρίζεται ότι οι R2 και R4 θα έχουν μηδενικές τιμές."
   ]
  },
  {
   "cell_type": "code",
   "execution_count": 16,
   "metadata": {},
   "outputs": [
    {
     "data": {
      "text/latex": [
       "$\\displaystyle \\left[\\begin{matrix}R_{1}\\\\0\\\\R_{3}\\\\0\\\\R_{5}\\\\R_{6}\\end{matrix}\\right]$"
      ],
      "text/plain": [
       "Matrix([\n",
       "[R1],\n",
       "[ 0],\n",
       "[R3],\n",
       "[ 0],\n",
       "[R5],\n",
       "[R6]])"
      ]
     },
     "execution_count": 16,
     "metadata": {},
     "output_type": "execute_result"
    }
   ],
   "source": [
    "R1, R3, R5, R6 = sym.symbols('R1 R3 R5 R6')\n",
    "R = Matrix([[R1], [0], [R3], [0], [R5], [R6]])\n",
    "R"
   ]
  },
  {
   "cell_type": "markdown",
   "metadata": {},
   "source": [
    "### Επίλυση"
   ]
  },
  {
   "cell_type": "markdown",
   "metadata": {},
   "source": [
    "Στόχος είναι η επίλυση της μητρωικής εξίσωσης:\n",
    "\n",
    "$ [k] \\cdot [u] = [P] + [R]$\n",
    "\n",
    "στην οποία όμως υπάρχουν 2 άγνωστοι, οι πίνακες $[u]$ και $[R]$.\n",
    "\n",
    "Επιπλέον, παρατηρείται ότι το μητρώο στιβαρότητας δεν μπορεί να αντιστραφεί καθώς η ορίζουσά του είναι μηδενική."
   ]
  },
  {
   "cell_type": "code",
   "execution_count": 17,
   "metadata": {},
   "outputs": [
    {
     "data": {
      "text/latex": [
       "$\\displaystyle 0$"
      ],
      "text/plain": [
       "0"
      ]
     },
     "execution_count": 17,
     "metadata": {},
     "output_type": "execute_result"
    }
   ],
   "source": [
    "# Υπολογισμός ορίζουσας του μητρώου στιβαρότητας\n",
    "K.det()"
   ]
  },
  {
   "cell_type": "markdown",
   "metadata": {},
   "source": [
    "### Αντικατάσταση γνωστών τιμών στα μητρώα αντιδράσεων και παραμορφώσεων"
   ]
  },
  {
   "cell_type": "markdown",
   "metadata": {},
   "source": [
    "Με δεδομένο ότι είναι γνωστές οι μηδενικές τιμές των μητρώων αντιδράσεων και παραμορφώσεων, αρκεί η επίλυση να περιοριστεί μόνο στα υπομητρώα που σχετίζονται με τις μη μηδενικές τιμές των παραμορφώσεων και συγκεκριμένα στις γραμμές/στήλες 2 και 4."
   ]
  },
  {
   "cell_type": "markdown",
   "metadata": {},
   "source": [
    "### Διαχωρισμός σε υπομητρώα"
   ]
  },
  {
   "cell_type": "code",
   "execution_count": 18,
   "metadata": {},
   "outputs": [],
   "source": [
    "k_24 = Matrix(K[[1, 3], [1,3]])\n",
    "p_24 = Matrix(P[[1, 3], 0])\n",
    "r_24 = Matrix(R[[1, 3], 0])\n",
    "u_24 = Matrix(U[[1, 3], 0])\n"
   ]
  },
  {
   "cell_type": "code",
   "execution_count": 19,
   "metadata": {},
   "outputs": [
    {
     "data": {
      "text/latex": [
       "$\\displaystyle \\left[\\begin{matrix}0.666666666666667 & 0.333333333333333\\\\0.333333333333333 & 1.66666666666667\\end{matrix}\\right]$"
      ],
      "text/plain": [
       "Matrix([\n",
       "[0.666666666666667, 0.333333333333333],\n",
       "[0.333333333333333,  1.66666666666667]])"
      ]
     },
     "execution_count": 19,
     "metadata": {},
     "output_type": "execute_result"
    }
   ],
   "source": [
    "k_24"
   ]
  },
  {
   "cell_type": "code",
   "execution_count": 20,
   "metadata": {},
   "outputs": [
    {
     "data": {
      "text/latex": [
       "$\\displaystyle \\left[\\begin{matrix}0\\\\0\\end{matrix}\\right]$"
      ],
      "text/plain": [
       "Matrix([\n",
       "[0],\n",
       "[0]])"
      ]
     },
     "execution_count": 20,
     "metadata": {},
     "output_type": "execute_result"
    }
   ],
   "source": [
    "r_24"
   ]
  },
  {
   "cell_type": "code",
   "execution_count": 21,
   "metadata": {},
   "outputs": [
    {
     "data": {
      "text/latex": [
       "$\\displaystyle \\left[\\begin{matrix}U_{2}\\\\U_{4}\\end{matrix}\\right]$"
      ],
      "text/plain": [
       "Matrix([\n",
       "[U2],\n",
       "[U4]])"
      ]
     },
     "execution_count": 21,
     "metadata": {},
     "output_type": "execute_result"
    }
   ],
   "source": [
    "u_24"
   ]
  },
  {
   "cell_type": "code",
   "execution_count": 22,
   "metadata": {},
   "outputs": [
    {
     "data": {
      "text/latex": [
       "$\\displaystyle \\left[\\begin{matrix}-340.0\\\\80.0\\end{matrix}\\right]$"
      ],
      "text/plain": [
       "Matrix([\n",
       "[-340.0],\n",
       "[  80.0]])"
      ]
     },
     "execution_count": 22,
     "metadata": {},
     "output_type": "execute_result"
    }
   ],
   "source": [
    "p_24"
   ]
  },
  {
   "cell_type": "markdown",
   "metadata": {},
   "source": [
    "Από τον πολλαπλασιασμό των $ [k_{24}] \\cdot [u_{24}]$ και την εξίσωση του γινομένου με το $[P_{24}]$ προκύπτει ένα σύστημα 2x2 εξισώσεων με 2 άγνωστους."
   ]
  },
  {
   "cell_type": "code",
   "execution_count": 23,
   "metadata": {},
   "outputs": [
    {
     "data": {
      "text/latex": [
       "$\\displaystyle \\left[\\begin{matrix}0.666666666666667 U_{2} + 0.333333333333333 U_{4}\\\\0.333333333333333 U_{2} + 1.66666666666667 U_{4}\\end{matrix}\\right]$"
      ],
      "text/plain": [
       "Matrix([\n",
       "[0.666666666666667*U2 + 0.333333333333333*U4],\n",
       "[ 0.333333333333333*U2 + 1.66666666666667*U4]])"
      ]
     },
     "execution_count": 23,
     "metadata": {},
     "output_type": "execute_result"
    }
   ],
   "source": [
    "k_24 * u_24"
   ]
  },
  {
   "cell_type": "markdown",
   "metadata": {},
   "source": [
    "Από τη λύση του συστήματος προκύπτουν οι τιμές των παραμορφώσεων $U_2$ και $U_4$."
   ]
  },
  {
   "cell_type": "markdown",
   "metadata": {},
   "source": [
    "### Εναλλακτική επίλυση με πράξεις μητρώων\n"
   ]
  },
  {
   "cell_type": "markdown",
   "metadata": {},
   "source": [
    "Η εξίσωση:\n",
    "\n",
    "$ [k_{24}] \\cdot [u_{24}] = [P_{24}] + [R_{24}]$\n",
    "\n",
    "για μηδενικό $[R_{24}]$ μπορεί να γραφτεί και ως:\n",
    "\n",
    "$ [k_{24}] \\cdot [u_{24}] = [P_{24}]$\n",
    "\n",
    "οπότε \n",
    "\n",
    "$ [k_{24}]^{-1}[k_{24}] \\cdot [u_{24}] = [k_{24}]^{-1} \\cdot [P_{24}]$\n",
    "\n",
    "$ [u_{24}] = [k_{24}]^{-1} \\cdot [P_{24}]$\n",
    "\n",
    "Το μητρώο $[k_{24}]$ είναι πλέον αντιστρέψιμο"
   ]
  },
  {
   "cell_type": "code",
   "execution_count": 24,
   "metadata": {},
   "outputs": [
    {
     "data": {
      "text/latex": [
       "$\\displaystyle \\left[\\begin{matrix}1.66666666666667 & -0.333333333333333\\\\-0.333333333333333 & 0.666666666666667\\end{matrix}\\right]$"
      ],
      "text/plain": [
       "Matrix([\n",
       "[  1.66666666666667, -0.333333333333333],\n",
       "[-0.333333333333333,  0.666666666666667]])"
      ]
     },
     "execution_count": 24,
     "metadata": {},
     "output_type": "execute_result"
    }
   ],
   "source": [
    "# Το αντίστροφο του μητρώου στιβαρότητας για τα στοιχεία 346\n",
    "k_24.inv()"
   ]
  },
  {
   "cell_type": "code",
   "execution_count": 25,
   "metadata": {},
   "outputs": [
    {
     "data": {
      "text/latex": [
       "$\\displaystyle \\left[\\begin{matrix}-593.333333333333\\\\166.666666666667\\end{matrix}\\right]$"
      ],
      "text/plain": [
       "Matrix([\n",
       "[-593.333333333333],\n",
       "[ 166.666666666667]])"
      ]
     },
     "execution_count": 25,
     "metadata": {},
     "output_type": "execute_result"
    }
   ],
   "source": [
    "u_24_solution = Matrix(k_24.inv() * p_24)\n",
    "u_24_solution"
   ]
  },
  {
   "cell_type": "markdown",
   "metadata": {},
   "source": [
    "Το παραπάνω αποτέλεσμα είναι οι τιμές του μητρώου $[u_{24}]$, άρα των παραμορφώσεων $U_2$ και $U_4$."
   ]
  },
  {
   "cell_type": "code",
   "execution_count": 26,
   "metadata": {},
   "outputs": [
    {
     "data": {
      "text/latex": [
       "$\\displaystyle \\left[\\begin{matrix}0\\\\-593.333333333333\\\\0\\\\166.666666666667\\\\0\\\\0\\end{matrix}\\right]$"
      ],
      "text/plain": [
       "Matrix([\n",
       "[                0],\n",
       "[-593.333333333333],\n",
       "[                0],\n",
       "[ 166.666666666667],\n",
       "[                0],\n",
       "[                0]])"
      ]
     },
     "execution_count": 26,
     "metadata": {},
     "output_type": "execute_result"
    }
   ],
   "source": [
    "u_solution = U.subs(U2, u_24_solution[0]).subs(U4, u_24_solution[1])\n",
    "u_solution"
   ]
  },
  {
   "cell_type": "markdown",
   "metadata": {},
   "source": [
    "Η αρχική μητρωική εξίσωση έχει πλέον ως μόνο άγνωστο το μητρώο [R]:\n",
    "\n",
    "$ [k] \\cdot [u] = [P] + [R]$\n",
    "\n",
    "οπότε:\n",
    "\n",
    "$[R] = [k] \\cdot [u] - [P]$"
   ]
  },
  {
   "cell_type": "code",
   "execution_count": 27,
   "metadata": {},
   "outputs": [
    {
     "data": {
      "text/latex": [
       "$\\displaystyle \\left[\\begin{matrix}288.888888888889\\\\0\\\\412.361111111111\\\\0\\\\88.75\\\\-76.6666666666667\\end{matrix}\\right]$"
      ],
      "text/plain": [
       "Matrix([\n",
       "[ 288.888888888889],\n",
       "[                0],\n",
       "[ 412.361111111111],\n",
       "[                0],\n",
       "[            88.75],\n",
       "[-76.6666666666667]])"
      ]
     },
     "execution_count": 27,
     "metadata": {},
     "output_type": "execute_result"
    }
   ],
   "source": [
    "r_solution = Matrix(K * u_solution - P)\n",
    "r_solution\n"
   ]
  },
  {
   "cell_type": "markdown",
   "metadata": {},
   "source": []
  }
 ],
 "metadata": {
  "kernelspec": {
   "display_name": "Python 3 (ipykernel)",
   "language": "python",
   "name": "python3"
  },
  "language_info": {
   "codemirror_mode": {
    "name": "ipython",
    "version": 3
   },
   "file_extension": ".py",
   "mimetype": "text/x-python",
   "name": "python",
   "nbconvert_exporter": "python",
   "pygments_lexer": "ipython3",
   "version": "3.9.13"
  },
  "vscode": {
   "interpreter": {
    "hash": "ca6f3e81e61ca9f5e9e00337e08560702d62287af7622857857ab999dce5701e"
   }
  }
 },
 "nbformat": 4,
 "nbformat_minor": 4
}
