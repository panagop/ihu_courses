{
 "cells": [
  {
   "cell_type": "markdown",
   "metadata": {},
   "source": [
    "# Εφαρμογή 1"
   ]
  },
  {
   "cell_type": "code",
   "execution_count": 32,
   "metadata": {},
   "outputs": [],
   "source": [
    "import sympy as sym\n",
    "from sympy import Matrix\n",
    "\n",
    "from IPython.display import Image, HTML, display"
   ]
  },
  {
   "cell_type": "markdown",
   "metadata": {},
   "source": [
    "## Ορισμός των συμβόλων που θα χρησιμοποιηθούν στην επίλυση του προβλήματος"
   ]
  },
  {
   "cell_type": "code",
   "execution_count": 33,
   "metadata": {},
   "outputs": [],
   "source": [
    "A, E, I, L = sym.symbols('A E I L')\n",
    "U1, U2, U3, U4, U5, U6 = sym.symbols('U1 U2 U3 U4 U5 U6')\n",
    "P1, P2, P3, P4, P5, P6 = sym.symbols('P1 P2 P3 P4 P5 P6')\n",
    "R1, R2, R3, R4, R5, R6 = sym.symbols('R1 R2 R3 R4 R5 R6')"
   ]
  },
  {
   "cell_type": "markdown",
   "metadata": {},
   "source": [
    "## Καθορισμός μητρώων και διανυσμάτων"
   ]
  },
  {
   "cell_type": "markdown",
   "metadata": {},
   "source": [
    "### Μητρώο στιβαρότητας"
   ]
  },
  {
   "cell_type": "code",
   "execution_count": 34,
   "metadata": {},
   "outputs": [
    {
     "data": {
      "text/latex": [
       "$\\displaystyle \\left[\\begin{matrix}\\frac{A E}{L} & 0 & 0 & - \\frac{A E}{L} & 0 & 0\\\\0 & \\frac{12 E I}{L^{3}} & \\frac{6 E I}{L^{2}} & 0 & - \\frac{12 E I}{L^{3}} & \\frac{6 E I}{L^{2}}\\\\0 & \\frac{6 E I}{L^{2}} & \\frac{4 E I}{L} & 0 & - \\frac{6 E I}{L^{2}} & \\frac{2 E I}{L}\\\\- \\frac{A E}{L} & 0 & 0 & \\frac{A E}{L} & 0 & 0\\\\0 & - \\frac{12 E I}{L^{3}} & - \\frac{6 E I}{L^{2}} & 0 & \\frac{12 E I}{L^{3}} & - \\frac{6 E I}{L^{2}}\\\\0 & \\frac{6 E I}{L^{2}} & \\frac{2 E I}{L} & 0 & - \\frac{6 E I}{L^{2}} & \\frac{4 E I}{L}\\end{matrix}\\right]$"
      ],
      "text/plain": [
       "Matrix([\n",
       "[ A*E/L,            0,           0, -A*E/L,            0,           0],\n",
       "[     0,  12*E*I/L**3,  6*E*I/L**2,      0, -12*E*I/L**3,  6*E*I/L**2],\n",
       "[     0,   6*E*I/L**2,     4*E*I/L,      0,  -6*E*I/L**2,     2*E*I/L],\n",
       "[-A*E/L,            0,           0,  A*E/L,            0,           0],\n",
       "[     0, -12*E*I/L**3, -6*E*I/L**2,      0,  12*E*I/L**3, -6*E*I/L**2],\n",
       "[     0,   6*E*I/L**2,     2*E*I/L,      0,  -6*E*I/L**2,     4*E*I/L]])"
      ]
     },
     "execution_count": 34,
     "metadata": {},
     "output_type": "execute_result"
    }
   ],
   "source": [
    "K = Matrix([[A*E/L, 0, 0, -A*E/L, 0, 0],\n",
    "        [0, 12*E*I/L**3, 6*E*I/L**2, 0, -12*E*I/L**3, 6*E*I/L**2],\n",
    "        [0, 6*E*I/L**2, 4*E*I/L, 0, -6*E*I/L**2, 2*E*I/L],\n",
    "        [-A*E/L, 0, 0, A*E/L, 0, 0],\n",
    "        [0, -12*E*I/L**3, -6*E*I/L**2, 0, 12*E*I/L**3, -6*E*I/L**2],\n",
    "        [0, 6*E*I/L**2, 2*E*I/L, 0, -6*E*I/L**2, 4*E*I/L]])\n",
    "\n",
    "K"
   ]
  },
  {
   "cell_type": "markdown",
   "metadata": {},
   "source": [
    "### Μητρώο παραμορφώσεων"
   ]
  },
  {
   "cell_type": "code",
   "execution_count": 35,
   "metadata": {},
   "outputs": [
    {
     "data": {
      "text/latex": [
       "$\\displaystyle \\left[\\begin{matrix}U_{1}\\\\U_{2}\\\\U_{3}\\\\U_{4}\\\\U_{5}\\\\U_{6}\\end{matrix}\\right]$"
      ],
      "text/plain": [
       "Matrix([\n",
       "[U1],\n",
       "[U2],\n",
       "[U3],\n",
       "[U4],\n",
       "[U5],\n",
       "[U6]])"
      ]
     },
     "execution_count": 35,
     "metadata": {},
     "output_type": "execute_result"
    }
   ],
   "source": [
    "U = Matrix([[U1], [U2], [U3], [U4], [U5], [U6]])\n",
    "U"
   ]
  },
  {
   "cell_type": "markdown",
   "metadata": {},
   "source": [
    "### Μητρώο δυνάμεων"
   ]
  },
  {
   "cell_type": "code",
   "execution_count": 36,
   "metadata": {},
   "outputs": [
    {
     "data": {
      "text/latex": [
       "$\\displaystyle \\left[\\begin{matrix}P_{1}\\\\P_{2}\\\\P_{3}\\\\P_{4}\\\\P_{5}\\\\P_{6}\\end{matrix}\\right]$"
      ],
      "text/plain": [
       "Matrix([\n",
       "[P1],\n",
       "[P2],\n",
       "[P3],\n",
       "[P4],\n",
       "[P5],\n",
       "[P6]])"
      ]
     },
     "execution_count": 36,
     "metadata": {},
     "output_type": "execute_result"
    }
   ],
   "source": [
    "P = Matrix([[P1], [P2], [P3], [P4], [P5], [P6]])\n",
    "P"
   ]
  },
  {
   "cell_type": "markdown",
   "metadata": {},
   "source": [
    "### Μητρώο αντιδράσεων"
   ]
  },
  {
   "cell_type": "code",
   "execution_count": 37,
   "metadata": {},
   "outputs": [
    {
     "data": {
      "text/latex": [
       "$\\displaystyle \\left[\\begin{matrix}R_{1}\\\\R_{2}\\\\R_{3}\\\\R_{4}\\\\R_{5}\\\\R_{6}\\end{matrix}\\right]$"
      ],
      "text/plain": [
       "Matrix([\n",
       "[R1],\n",
       "[R2],\n",
       "[R3],\n",
       "[R4],\n",
       "[R5],\n",
       "[R6]])"
      ]
     },
     "execution_count": 37,
     "metadata": {},
     "output_type": "execute_result"
    }
   ],
   "source": [
    "R = Matrix([[R1], [R2], [R3], [R4], [R5], [R6]])\n",
    "R"
   ]
  },
  {
   "cell_type": "markdown",
   "metadata": {},
   "source": [
    "## Παράδειγμα 1 - Επίλυση προβόλου"
   ]
  },
  {
   "cell_type": "code",
   "execution_count": 38,
   "metadata": {},
   "outputs": [
    {
     "data": {
      "text/html": [
       "\n",
       "    <div class=\"row\">\n",
       "            <img src=https://raw.githubusercontent.com/panagop/ihu_courses/main/shared/images/mitroa/example1/ekfonisi_1.png style=\"width:100\"> </img>\n",
       "            <img src=https://raw.githubusercontent.com/panagop/ihu_courses/main/shared/images/mitroa/example1/ekfonisi_2.png style=\"width:80\"> </img>\n",
       "    </div>\n",
       "    "
      ],
      "text/plain": [
       "<IPython.core.display.HTML object>"
      ]
     },
     "execution_count": 38,
     "metadata": {},
     "output_type": "execute_result"
    }
   ],
   "source": [
    "image_path1 = 'https://raw.githubusercontent.com/panagop/ihu_courses/main/shared/images/mitroa/example1/ekfonisi_1.png'\n",
    "image_path2 = 'https://raw.githubusercontent.com/panagop/ihu_courses/main/shared/images/mitroa/example1/ekfonisi_2.png'\n",
    "\n",
    "HTML(f\"\"\"\n",
    "    <div class=\"row\">\n",
    "            <img src={image_path1} style=\"width:100\"> </img>\n",
    "            <img src={image_path2} style=\"width:80\"> </img>\n",
    "    </div>\n",
    "    \"\"\")"
   ]
  },
  {
   "cell_type": "markdown",
   "metadata": {},
   "source": [
    "### Υπολογισμός παραμέτρων παραδείγματος"
   ]
  },
  {
   "cell_type": "code",
   "execution_count": 39,
   "metadata": {},
   "outputs": [
    {
     "name": "stdout",
     "output_type": "stream",
     "text": [
      "A = 0.1200 m^2\n",
      "I = 0.001600 m^4\n"
     ]
    }
   ],
   "source": [
    "A_example = 0.3*0.4             # m^2\n",
    "I_example = 0.3*0.4**3/12       # m^4\n",
    "E_example = 1.0e10              # Pa\n",
    "L_example = 8.0                 # m\n",
    "q_example = 20_000.0            # N/m\n",
    "\n",
    "print(f'A = {A_example:.4f} m^2')\n",
    "print(f'I = {I_example:.6f} m^4')"
   ]
  },
  {
   "cell_type": "markdown",
   "metadata": {},
   "source": [
    "### Αντικατάσταση τιμών στο μητρώο στιβαρότητας"
   ]
  },
  {
   "cell_type": "code",
   "execution_count": 40,
   "metadata": {},
   "outputs": [
    {
     "data": {
      "text/latex": [
       "$\\displaystyle \\left[\\begin{matrix}150000000.0 & 0 & 0 & -150000000.0 & 0 & 0\\\\0 & 375000.0 & 1500000.0 & 0 & -375000.0 & 1500000.0\\\\0 & 1500000.0 & 8000000.0 & 0 & -1500000.0 & 4000000.0\\\\-150000000.0 & 0 & 0 & 150000000.0 & 0 & 0\\\\0 & -375000.0 & -1500000.0 & 0 & 375000.0 & -1500000.0\\\\0 & 1500000.0 & 4000000.0 & 0 & -1500000.0 & 8000000.0\\end{matrix}\\right]$"
      ],
      "text/plain": [
       "Matrix([\n",
       "[ 150000000.0,         0,          0, -150000000.0,          0,          0],\n",
       "[           0,  375000.0,  1500000.0,            0,  -375000.0,  1500000.0],\n",
       "[           0, 1500000.0,  8000000.0,            0, -1500000.0,  4000000.0],\n",
       "[-150000000.0,         0,          0,  150000000.0,          0,          0],\n",
       "[           0, -375000.0, -1500000.0,            0,   375000.0, -1500000.0],\n",
       "[           0, 1500000.0,  4000000.0,            0, -1500000.0,  8000000.0]])"
      ]
     },
     "execution_count": 40,
     "metadata": {},
     "output_type": "execute_result"
    }
   ],
   "source": [
    "k_example = K.subs(A, A_example).subs(E, E_example).subs(I, I_example).subs(L, L_example)\n",
    "k_example"
   ]
  },
  {
   "cell_type": "markdown",
   "metadata": {},
   "source": [
    "### Αντικατάσταση τιμών στο μητρώο δυνάμεων"
   ]
  },
  {
   "cell_type": "markdown",
   "metadata": {},
   "source": [
    "Θεωρώντας αμφίπακτη δοκό, οι τιμές των δυνάμεων στα άκρα είναι σύμφωνα με το σχήμα:"
   ]
  },
  {
   "cell_type": "code",
   "execution_count": 41,
   "metadata": {},
   "outputs": [
    {
     "data": {
      "image/png": "[encoded data removed]",
      "text/plain": [
       "<IPython.core.display.Image object>"
      ]
     },
     "execution_count": 41,
     "metadata": {
      "image/png": {
       "width": 600
      }
     },
     "output_type": "execute_result"
    }
   ],
   "source": [
    "Image('https://raw.githubusercontent.com/panagop/ihu_courses/main/shared/images/mitroa/example1/uniform.png', width=600)"
   ]
  },
  {
   "cell_type": "code",
   "execution_count": 42,
   "metadata": {},
   "outputs": [
    {
     "data": {
      "text/latex": [
       "$\\displaystyle \\left[\\begin{matrix}0\\\\-80000.0\\\\-106666.666666667\\\\0\\\\-80000.0\\\\106666.666666667\\end{matrix}\\right]$"
      ],
      "text/plain": [
       "Matrix([\n",
       "[                0],\n",
       "[         -80000.0],\n",
       "[-106666.666666667],\n",
       "[                0],\n",
       "[         -80000.0],\n",
       "[ 106666.666666667]])"
      ]
     },
     "execution_count": 42,
     "metadata": {},
     "output_type": "execute_result"
    }
   ],
   "source": [
    "PA_example = PB_example = - q_example * L_example / 2\n",
    "MA_example = - q_example * L_example**2 / 12\n",
    "MB_example = -MA_example\n",
    "p_example = P.subs(P1, 0).subs(P2, PA_example).subs(P3, MA_example).subs(P4, 0).subs(P5, PB_example).subs(P6, MB_example)\n",
    "p_example"
   ]
  },
  {
   "cell_type": "markdown",
   "metadata": {},
   "source": [
    "## Υπολογισμός των παραμορφώσεων και των αντιδράσεων"
   ]
  },
  {
   "cell_type": "markdown",
   "metadata": {},
   "source": [
    "Στόχος είναι η επίλυση της μητρωικής εξίσωσης:\n",
    "\n",
    "$ [k] \\cdot [u] = [P] + [R]$\n",
    "\n",
    "στην οποία όμως υπάρχουν 2 άγνωστοι, οι πίνακες $[u]$ και $[R]$.\n",
    "\n",
    "Επιπλέον, παρατηρείται ότι το μητρώο στιβαρότητας δεν μπορεί να αντιστραφεί καθώς η ορίζουσά του είναι μεδενική."
   ]
  },
  {
   "cell_type": "code",
   "execution_count": 43,
   "metadata": {},
   "outputs": [
    {
     "data": {
      "text/latex": [
       "$\\displaystyle 0$"
      ],
      "text/plain": [
       "0"
      ]
     },
     "execution_count": 43,
     "metadata": {},
     "output_type": "execute_result"
    }
   ],
   "source": [
    "# Υπολογισμός ορίζουσας του μητρώου στιβαρότητας\n",
    "k_example.det()"
   ]
  },
  {
   "cell_type": "markdown",
   "metadata": {},
   "source": [
    "### Αντικατάσταση γνωστών τιμών στα μητρώα αντιδράσεων και παραμορφώσεων"
   ]
  },
  {
   "cell_type": "markdown",
   "metadata": {},
   "source": [
    "Στο μητρώο αντιδράσεων, οι αντιδράσεις στην άκρη του προβόλου θα είναι μηδενικές, ενώ αντίστοιχα, στο μητρώο παραμορφώσεων οι παραμορφώσεις στην πάκτωση θα είναι μηδενικές."
   ]
  },
  {
   "cell_type": "code",
   "execution_count": 44,
   "metadata": {},
   "outputs": [
    {
     "data": {
      "text/latex": [
       "$\\displaystyle \\left[\\begin{matrix}R_{1 example}\\\\R_{2 example}\\\\R_{3 example}\\\\0\\\\0\\\\0\\end{matrix}\\right]$"
      ],
      "text/plain": [
       "Matrix([\n",
       "[R1_example],\n",
       "[R2_example],\n",
       "[R3_example],\n",
       "[         0],\n",
       "[         0],\n",
       "[         0]])"
      ]
     },
     "execution_count": 44,
     "metadata": {},
     "output_type": "execute_result"
    }
   ],
   "source": [
    "R1_example, R2_example, R3_example = sym.symbols('R1_example R2_example R3_example')\n",
    "r_example = R.subs(R1, R1_example).subs(R2, R2_example).subs(R3, R3_example).subs(R4, 0).subs(R5, 0).subs(R6, 0)\n",
    "r_example"
   ]
  },
  {
   "cell_type": "code",
   "execution_count": 45,
   "metadata": {},
   "outputs": [
    {
     "data": {
      "text/latex": [
       "$\\displaystyle \\left[\\begin{matrix}0\\\\0\\\\0\\\\U_{4 example}\\\\U_{5 example}\\\\U_{6 example}\\end{matrix}\\right]$"
      ],
      "text/plain": [
       "Matrix([\n",
       "[         0],\n",
       "[         0],\n",
       "[         0],\n",
       "[U4_example],\n",
       "[U5_example],\n",
       "[U6_example]])"
      ]
     },
     "execution_count": 45,
     "metadata": {},
     "output_type": "execute_result"
    }
   ],
   "source": [
    "U4_example, U5_example, U6_example = sym.symbols('U4_example U5_example U6_example')\n",
    "u_example = U.subs(U1, 0).subs(U2, 0).subs(U3, 0).subs(U4, U4_example).subs(U5, U5_example).subs(U6, U6_example)\n",
    "u_example"
   ]
  },
  {
   "cell_type": "markdown",
   "metadata": {},
   "source": [
    "### Διαχωρισμός σε υπομητρώα"
   ]
  },
  {
   "cell_type": "markdown",
   "metadata": {},
   "source": [
    "Παρατηρείται ότι αν θεωρηθεί το υπομητρώο με τα τελευταία 3 στοιχεία των πινάκων $[k]$, $[P]$, $[R]$ και $[u]$, τότε η μητρωική εξίσωση γίνεται:\n",
    "\n",
    "$ [k_{456}] \\cdot [u_{456}] = [P_{456}] + [R_{456}]$\n",
    "\n",
    "όπου μάλιστα το $[R_{456}]$ είναι μηδενικό."
   ]
  },
  {
   "cell_type": "code",
   "execution_count": 46,
   "metadata": {},
   "outputs": [],
   "source": [
    "k_456 = Matrix(k_example[3:, 3:])\n",
    "p_456 = Matrix(p_example[3:])\n",
    "r_456 = Matrix(r_example[3:])\n",
    "u_456 = Matrix(u_example[3:])\n"
   ]
  },
  {
   "cell_type": "code",
   "execution_count": 47,
   "metadata": {},
   "outputs": [
    {
     "data": {
      "text/latex": [
       "$\\displaystyle \\left[\\begin{matrix}150000000.0 & 0 & 0\\\\0 & 375000.0 & -1500000.0\\\\0 & -1500000.0 & 8000000.0\\end{matrix}\\right]$"
      ],
      "text/plain": [
       "Matrix([\n",
       "[150000000.0,          0,          0],\n",
       "[          0,   375000.0, -1500000.0],\n",
       "[          0, -1500000.0,  8000000.0]])"
      ]
     },
     "execution_count": 47,
     "metadata": {},
     "output_type": "execute_result"
    }
   ],
   "source": [
    "k_456"
   ]
  },
  {
   "cell_type": "code",
   "execution_count": 48,
   "metadata": {},
   "outputs": [
    {
     "data": {
      "text/latex": [
       "$\\displaystyle \\left[\\begin{matrix}0\\\\0\\\\0\\end{matrix}\\right]$"
      ],
      "text/plain": [
       "Matrix([\n",
       "[0],\n",
       "[0],\n",
       "[0]])"
      ]
     },
     "execution_count": 48,
     "metadata": {},
     "output_type": "execute_result"
    }
   ],
   "source": [
    "r_456"
   ]
  },
  {
   "cell_type": "code",
   "execution_count": 49,
   "metadata": {},
   "outputs": [
    {
     "data": {
      "text/latex": [
       "$\\displaystyle \\left[\\begin{matrix}U_{4 example}\\\\U_{5 example}\\\\U_{6 example}\\end{matrix}\\right]$"
      ],
      "text/plain": [
       "Matrix([\n",
       "[U4_example],\n",
       "[U5_example],\n",
       "[U6_example]])"
      ]
     },
     "execution_count": 49,
     "metadata": {},
     "output_type": "execute_result"
    }
   ],
   "source": [
    "u_456"
   ]
  },
  {
   "cell_type": "code",
   "execution_count": 50,
   "metadata": {},
   "outputs": [
    {
     "data": {
      "text/latex": [
       "$\\displaystyle \\left[\\begin{matrix}0\\\\-80000.0\\\\106666.666666667\\end{matrix}\\right]$"
      ],
      "text/plain": [
       "Matrix([\n",
       "[               0],\n",
       "[        -80000.0],\n",
       "[106666.666666667]])"
      ]
     },
     "execution_count": 50,
     "metadata": {},
     "output_type": "execute_result"
    }
   ],
   "source": [
    "p_456"
   ]
  },
  {
   "cell_type": "markdown",
   "metadata": {},
   "source": [
    "Από τον πολλαπλασιασμό των $ [k_{456}] \\cdot [u_{456}]$ και την εξίσωση του γινομένου με το $[P_{456}]$ προκύπτει ένα σύστημα 3x3 εξισώσεων, όπου φυσικά $U_4=0 $ οπότε καταλήγουμε σε σύστημα 2x2"
   ]
  },
  {
   "cell_type": "code",
   "execution_count": 51,
   "metadata": {},
   "outputs": [
    {
     "data": {
      "text/latex": [
       "$\\displaystyle \\left[\\begin{matrix}150000000.0 U_{4 example}\\\\375000.0 U_{5 example} - 1500000.0 U_{6 example}\\\\- 1500000.0 U_{5 example} + 8000000.0 U_{6 example}\\end{matrix}\\right]$"
      ],
      "text/plain": [
       "Matrix([\n",
       "[                      150000000.0*U4_example],\n",
       "[  375000.0*U5_example - 1500000.0*U6_example],\n",
       "[-1500000.0*U5_example + 8000000.0*U6_example]])"
      ]
     },
     "execution_count": 51,
     "metadata": {},
     "output_type": "execute_result"
    }
   ],
   "source": [
    "k_456 * u_456"
   ]
  },
  {
   "cell_type": "markdown",
   "metadata": {},
   "source": [
    "Από τη λύση του συστήματος προκύπτουν οι τιμές των παραμορφώσεων $U_5$ και $U_6$."
   ]
  },
  {
   "cell_type": "markdown",
   "metadata": {},
   "source": [
    "### Εναλλακτική επίλυση με πράξεις μητρώων\n"
   ]
  },
  {
   "cell_type": "markdown",
   "metadata": {},
   "source": [
    "Η εξίσωση:\n",
    "\n",
    "$ [k_{456}] \\cdot [u_{456}] = [P_{456}] + [R_{456}]$\n",
    "\n",
    "για μηδενικό $[R_{456}]$ μπορεί να γραφτεί και ως:\n",
    "\n",
    "$ [k_{456}] \\cdot [u_{456}] = [P_{456}]$\n",
    "\n",
    "οπότε \n",
    "\n",
    "$ [k_{456}]^{-1}[k_{456}] \\cdot [u_{456}] = [k_{456}]^{-1} \\cdot [P_{456}]$\n",
    "\n",
    "$ [u_{456}] = [k_{456}]^{-1} \\cdot [P_{456}]$\n",
    "\n",
    "Το μητρώο $[k_{456}]$ είναι πλέον αντιστρέψιμο"
   ]
  },
  {
   "cell_type": "code",
   "execution_count": 52,
   "metadata": {},
   "outputs": [
    {
     "data": {
      "text/latex": [
       "$\\displaystyle \\left[\\begin{matrix}6.66666666666667 \\cdot 10^{-9} & 0 & 0\\\\0 & 1.06666666666667 \\cdot 10^{-5} & 2.0 \\cdot 10^{-6}\\\\0 & 2.0 \\cdot 10^{-6} & 5.0 \\cdot 10^{-7}\\end{matrix}\\right]$"
      ],
      "text/plain": [
       "Matrix([\n",
       "[6.66666666666667e-9,                   0,      0],\n",
       "[                  0, 1.06666666666667e-5, 2.0e-6],\n",
       "[                  0,              2.0e-6, 5.0e-7]])"
      ]
     },
     "execution_count": 52,
     "metadata": {},
     "output_type": "execute_result"
    }
   ],
   "source": [
    "# Το αντίστροφο του μητρώου στιβαρότητας για τα στοιχεία 456\n",
    "k_456.inv()"
   ]
  },
  {
   "cell_type": "code",
   "execution_count": 53,
   "metadata": {},
   "outputs": [
    {
     "data": {
      "text/latex": [
       "$\\displaystyle \\left[\\begin{matrix}0\\\\-0.64\\\\-0.106666666666667\\end{matrix}\\right]$"
      ],
      "text/plain": [
       "Matrix([\n",
       "[                 0],\n",
       "[             -0.64],\n",
       "[-0.106666666666667]])"
      ]
     },
     "execution_count": 53,
     "metadata": {},
     "output_type": "execute_result"
    }
   ],
   "source": [
    "u_456_solution = Matrix(k_456.inv() * p_456)\n",
    "u_456_solution"
   ]
  },
  {
   "cell_type": "markdown",
   "metadata": {},
   "source": [
    "Το παραπάνω αποτέλεσμα είναι οι τιμές του μητρώου $[u_{456}]$, άρα των παραμορφώσεων $U_4$, $U_5$ και $U_6$.\n",
    "\n",
    "οπότε πλέον το οι τιμές των U4, U5 και U6 της λύσης μπορούν να αντιστοιχηθούν στις σχετικές μεταβλητές"
   ]
  },
  {
   "cell_type": "code",
   "execution_count": 54,
   "metadata": {},
   "outputs": [
    {
     "data": {
      "text/latex": [
       "$\\displaystyle \\left[\\begin{matrix}0\\\\0\\\\0\\\\0\\\\-0.64\\\\-0.106666666666667\\end{matrix}\\right]$"
      ],
      "text/plain": [
       "Matrix([\n",
       "[                 0],\n",
       "[                 0],\n",
       "[                 0],\n",
       "[                 0],\n",
       "[             -0.64],\n",
       "[-0.106666666666667]])"
      ]
     },
     "execution_count": 54,
     "metadata": {},
     "output_type": "execute_result"
    }
   ],
   "source": [
    "u_solution = u_example.subs(U4_example, u_456_solution[0]).subs(U5_example, u_456_solution[1]).subs(U6_example, u_456_solution[2])\n",
    "u_example = u_solution\n",
    "u_example"
   ]
  },
  {
   "cell_type": "markdown",
   "metadata": {},
   "source": [
    "Η αρχική μητρωική εξίσωση έχει πλέον ως μόνο άγνωστο το μητρώο [R]:\n",
    "\n",
    "$ [k] \\cdot [u] = [P] + [R]$\n",
    "\n",
    "οπότε:\n",
    "\n",
    "$[R] = [k] \\cdot [u] - [P]$"
   ]
  },
  {
   "cell_type": "code",
   "execution_count": 55,
   "metadata": {},
   "outputs": [
    {
     "data": {
      "text/latex": [
       "$\\displaystyle \\left[\\begin{matrix}0\\\\160000.0\\\\640000.0\\\\0\\\\-2.91038304567337 \\cdot 10^{-11}\\\\7.27595761418343 \\cdot 10^{-11}\\end{matrix}\\right]$"
      ],
      "text/plain": [
       "Matrix([\n",
       "[                    0],\n",
       "[             160000.0],\n",
       "[             640000.0],\n",
       "[                    0],\n",
       "[-2.91038304567337e-11],\n",
       "[ 7.27595761418343e-11]])"
      ]
     },
     "execution_count": 55,
     "metadata": {},
     "output_type": "execute_result"
    }
   ],
   "source": [
    "r_solution = Matrix(k_example * u_example - p_example)\n",
    "r_solution\n"
   ]
  },
  {
   "cell_type": "markdown",
   "metadata": {},
   "source": [
    "Παρατηρείται ότι στο αποτέλεσμα που προκύπτει υπολογιστικά εμφανίζονται \"λύσεις\" για τις αντιδράσεις $R_5$ και $R_6$ που θα έπρεπε να είναι μηδενικές.\n",
    "\n",
    "Αυτό σχετίζεται με τους υπολογισμούς που γίνονται με τους Η/Υ και τους τρόπους που αποθηκεύονται οι πραγματικές τιμές των μεταβλητών. Βλέπουμε ότι τα νούμερα είναι πάρα πολύ μικρά, πρακτικά ίσα με μηδέν, ωστόσο οι υπολογιστές δεν τα αποδεχόνται ως τέτοια. Αυτό μπορεί να επηρεάσει την ακρίβεια των υπολογισμών, ιδιαίτερα σε περίπτωση που οι κάποιες μεταβλητές έχουν πολύ μεγάλες τιμές ενώ κάποιες άλλες πολύ μικρότερες. Βέβαια στο παράδειγμα που εξετάζεται οι τιμές των μεταβλητών είναι τέτοιες ώστε οι υπολογισμοί είναι πρακτικά ακριβείς."
   ]
  },
  {
   "cell_type": "markdown",
   "metadata": {},
   "source": []
  }
 ],
 "metadata": {
  "kernelspec": {
   "display_name": "Python 3 (ipykernel)",
   "language": "python",
   "name": "python3"
  },
  "language_info": {
   "codemirror_mode": {
    "name": "ipython",
    "version": 3
   },
   "file_extension": ".py",
   "mimetype": "text/x-python",
   "name": "python",
   "nbconvert_exporter": "python",
   "pygments_lexer": "ipython3",
   "version": "3.9.13"
  },
  "vscode": {
   "interpreter": {
    "hash": "ca6f3e81e61ca9f5e9e00337e08560702d62287af7622857857ab999dce5701e"
   }
  }
 },
 "nbformat": 4,
 "nbformat_minor": 4
}
